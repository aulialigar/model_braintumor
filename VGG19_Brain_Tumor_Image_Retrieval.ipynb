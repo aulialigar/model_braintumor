{
  "cells": [
    {
      "cell_type": "markdown",
      "metadata": {
        "id": "view-in-github",
        "colab_type": "text"
      },
      "source": [
        "<a href=\"https://colab.research.google.com/github/aulialigar/model_braintumor/blob/main/VGG19_Brain_Tumor_Image_Retrieval.ipynb\" target=\"_parent\"><img src=\"https://colab.research.google.com/assets/colab-badge.svg\" alt=\"Open In Colab\"/></a>"
      ]
    },
    {
      "cell_type": "markdown",
      "metadata": {
        "id": "CDYVtH0HehRw"
      },
      "source": [
        "# Load Data and Depedency"
      ]
    },
    {
      "cell_type": "code",
      "execution_count": null,
      "metadata": {
        "colab": {
          "base_uri": "https://localhost:8080/"
        },
        "id": "E6YfU4QiVudB",
        "outputId": "fe475f4e-bc64-480a-dc2c-30f336594ef3"
      },
      "outputs": [
        {
          "output_type": "stream",
          "name": "stdout",
          "text": [
            "--2022-01-18 23:04:49--  https://github.com/aulialigar/braintumor-image/archive/refs/heads/dataset-dan-model.zip\n",
            "Resolving github.com (github.com)... 140.82.114.3\n",
            "Connecting to github.com (github.com)|140.82.114.3|:443... connected.\n",
            "HTTP request sent, awaiting response... 302 Found\n",
            "Location: https://codeload.github.com/aulialigar/braintumor-image/zip/refs/heads/dataset-dan-model [following]\n",
            "--2022-01-18 23:04:49--  https://codeload.github.com/aulialigar/braintumor-image/zip/refs/heads/dataset-dan-model\n",
            "Resolving codeload.github.com (codeload.github.com)... 140.82.113.10\n",
            "Connecting to codeload.github.com (codeload.github.com)|140.82.113.10|:443... connected.\n",
            "HTTP request sent, awaiting response... 200 OK\n",
            "Length: unspecified [application/zip]\n",
            "Saving to: ‘/tmp/BrainTumorRetrieval.zip’\n",
            "\n",
            "/tmp/BrainTumorRetr     [        <=>         ] 838.52M  15.2MB/s    in 37s     \n",
            "\n",
            "2022-01-18 23:05:26 (22.8 MB/s) - ‘/tmp/BrainTumorRetrieval.zip’ saved [879249415]\n",
            "\n"
          ]
        }
      ],
      "source": [
        "!wget --no-check-certificate \\\n",
        "  https://github.com/aulialigar/braintumor-image/archive/refs/heads/dataset-dan-model.zip\\\n",
        "  -O /tmp/BrainTumorRetrieval.zip   "
      ]
    },
    {
      "cell_type": "code",
      "execution_count": null,
      "metadata": {
        "id": "r9wnBwTjV0SR"
      },
      "outputs": [],
      "source": [
        "# !unzip \\*.zip &> /dev/null && rm *.zip\n",
        "import zipfile\n",
        "zip_ref = zipfile.ZipFile('/tmp/BrainTumorRetrieval.zip', 'r') #Opens the zip file in read mode\n",
        "zip_ref.extractall('/tmp') #Extracts the files into the /tmp folder\n",
        "zip_ref.close()"
      ]
    },
    {
      "cell_type": "code",
      "execution_count": null,
      "metadata": {
        "id": "XkH-0J7cV5Fb"
      },
      "outputs": [],
      "source": [
        "import os\n",
        "base_dir = '/tmp/braintumor-image-dataset-dan-model/BrainTumorRetrieval'\n",
        "\n",
        "train_dir = os.path.join(base_dir, 'train')\n",
        "test_dir = os.path.join(base_dir, 'test')\n",
        "val_dir = os.path.join(base_dir, 'valid')\n",
        "\n",
        "train_glioma_dir = os.path.join(train_dir, 'glioma')\n",
        "train_meningioma_dir = os.path.join(train_dir, 'meningioma')\n",
        "train_pituitary_dir = os.path.join(train_dir, 'pituitary')\n",
        "\n",
        "test_glioma_dir = os.path.join(test_dir, 'glioma')\n",
        "test_meningioma_dir = os.path.join(test_dir, 'meningioma')\n",
        "test_pituitary_dir = os.path.join(test_dir, 'pituitary')\n",
        "\n",
        "val_glioma_dir = os.path.join(val_dir, 'glioma')\n",
        "val_meningioma_dir = os.path.join(val_dir, 'meningioma')\n",
        "val_pituitary_dir = os.path.join(val_dir, 'pituitary')"
      ]
    },
    {
      "cell_type": "code",
      "execution_count": null,
      "metadata": {
        "colab": {
          "base_uri": "https://localhost:8080/"
        },
        "id": "vr4H6V-BV8vF",
        "outputId": "08151cfe-af1e-41a4-ebc7-abb23652522a"
      },
      "outputs": [
        {
          "output_type": "stream",
          "name": "stdout",
          "text": [
            "['548.png', '916.png', '415.png', '888.png', '865.png', '874.png', '911.png', '1085.png', '330.png', '682.png']\n",
            "['2640.png', '2386.png', '2596.png', '2433.png', '2827.png', '2350.png', '2463.png', '2413.png', '2325.png', '2467.png']\n",
            "['1623.png', '1568.png', '1787.png', '1705.png', '1706.png', '1526.png', '1011.png', '1809.png', '1461.png', '922.png']\n"
          ]
        }
      ],
      "source": [
        "# Cek penamaan image yang ada di folder train_benign_dir dan train_malignant_dir\n",
        "print(os.listdir(train_glioma_dir)[:10])\n",
        "print(os.listdir(train_meningioma_dir)[:10])\n",
        "print(os.listdir(train_pituitary_dir)[:10])"
      ]
    },
    {
      "cell_type": "code",
      "execution_count": null,
      "metadata": {
        "colab": {
          "base_uri": "https://localhost:8080/"
        },
        "id": "F8y1hBksV_FV",
        "outputId": "19935043-f562-4040-ffde-8fd21448bf32"
      },
      "outputs": [
        {
          "output_type": "stream",
          "name": "stdout",
          "text": [
            "total training glioma images: 998\n",
            "total training meningioma images: 495\n",
            "total training pituitary images: 651\n",
            "total test glioma images: 285\n",
            "total test meningioma images: 142\n",
            "total test pituitary images: 186\n",
            "total val glioma images: 143\n",
            "total val meningioma images: 71\n",
            "total val pituitary images: 93\n"
          ]
        }
      ],
      "source": [
        "print('total training glioma images:', len(os.listdir(train_glioma_dir)))\n",
        "print('total training meningioma images:', len(os.listdir(train_meningioma_dir)))\n",
        "print('total training pituitary images:', len(os.listdir(train_pituitary_dir)))\n",
        "print('total test glioma images:', len(os.listdir(test_glioma_dir)))\n",
        "print('total test meningioma images:', len(os.listdir(test_meningioma_dir)))\n",
        "print('total test pituitary images:', len(os.listdir(test_pituitary_dir)))\n",
        "print('total val glioma images:', len(os.listdir(val_glioma_dir)))\n",
        "print('total val meningioma images:', len(os.listdir(val_meningioma_dir)))\n",
        "print('total val pituitary images:', len(os.listdir(val_pituitary_dir)))"
      ]
    },
    {
      "cell_type": "markdown",
      "metadata": {
        "id": "-fJ7pPoz2opO"
      },
      "source": [
        "## Depedency Library"
      ]
    },
    {
      "cell_type": "code",
      "execution_count": null,
      "metadata": {
        "id": "SowRlZK22ryn"
      },
      "outputs": [],
      "source": [
        "import numpy as np\n",
        "import json\n",
        "import os\n",
        "import cv2\n",
        "import copy\n",
        "import sklearn.metrics as metric\n",
        "import pandas as pd\n",
        "\n",
        "import tensorflow as tf\n",
        "from tensorflow.keras import layers\n",
        "from keras.layers import Input, Lambda, Dense, Flatten, Conv1D, MaxPooling2D\n",
        "from tensorflow.keras.models import Model\n",
        "from tensorflow.keras import backend as K\n",
        "from tensorflow.keras.optimizers import Adam\n",
        "from tensorflow.keras.callbacks import ModelCheckpoint \n",
        "from tensorflow.keras.applications.vgg19 import VGG19\n",
        "from keras.preprocessing.image import ImageDataGenerator\n",
        "\n",
        "import matplotlib.pyplot as plt\n",
        "import matplotlib"
      ]
    },
    {
      "cell_type": "markdown",
      "metadata": {
        "id": "WUvGKck53sP4"
      },
      "source": [
        "# Training Stage"
      ]
    },
    {
      "cell_type": "markdown",
      "metadata": {
        "id": "7k9p8BZ6z3yW"
      },
      "source": [
        "## Core Model VGG19"
      ]
    },
    {
      "cell_type": "code",
      "execution_count": null,
      "metadata": {
        "id": "msq-bc14GTa9"
      },
      "outputs": [],
      "source": [
        "IMAGE_SIZE = (128, 128)"
      ]
    },
    {
      "cell_type": "code",
      "execution_count": null,
      "metadata": {
        "id": "1iYA4dZhFeFZ",
        "colab": {
          "base_uri": "https://localhost:8080/"
        },
        "outputId": "2e29c2cd-b951-493a-9664-da6f53c7bc2e"
      },
      "outputs": [
        {
          "output_type": "stream",
          "name": "stdout",
          "text": [
            "Downloading data from https://storage.googleapis.com/tensorflow/keras-applications/vgg19/vgg19_weights_tf_dim_ordering_tf_kernels_notop.h5\n",
            "80142336/80134624 [==============================] - 0s 0us/step\n",
            "80150528/80134624 [==============================] - 0s 0us/step\n"
          ]
        }
      ],
      "source": [
        "# Menambahkan Layer untuk Preprocessing pada VGG\n",
        "vgg19 = VGG19(\n",
        "            input_shape = (128, 128, 3),\n",
        "            weights = 'imagenet',\n",
        "            include_top=False)\n",
        "\n",
        "\n",
        "# Untuk perintah menolak men training data yang telah digunakan sebelumnya\n",
        "for layer in vgg19.layers:\n",
        "  layer.trainable = False"
      ]
    },
    {
      "cell_type": "markdown",
      "metadata": {
        "id": "iOFbuzHJ0mf2"
      },
      "source": [
        "## Definition of hyperparameter\n"
      ]
    },
    {
      "cell_type": "code",
      "execution_count": null,
      "metadata": {
        "id": "C8IXMoVG0xB9"
      },
      "outputs": [],
      "source": [
        "EPOCHS = 100\n",
        "INIT_LR = 1e-4\n",
        "BS = 16\n",
        "IMAGE_SIZE = (128, 128)\n",
        "checkpoint_path = \"training_3_subclass_cp/cp.ckpt\"\n",
        "feature_path = \"training_3_subclass_feature.json\"\n",
        "model_path = \"training_3_subclass_model.h5\"\n",
        "history_path = \"training_3_subclass_history.json\"\n",
        "# magnification = \"40X\"\n",
        "# base_path = \"/content/drive/MyDrive/\"\n",
        "# base_dataset = \"BrainTumorRetrieval\"\n",
        "class_dir = ['glioma', 'meningioma', 'pituitary']"
      ]
    },
    {
      "cell_type": "code",
      "execution_count": null,
      "metadata": {
        "colab": {
          "base_uri": "https://localhost:8080/"
        },
        "id": "AOufijR61LoF",
        "outputId": "41a637b8-8189-4106-cbc6-365c43a5bbf8"
      },
      "outputs": [
        {
          "output_type": "stream",
          "name": "stdout",
          "text": [
            "[INFO] indexing file images dataset...\n",
            "[INFO] load images dataset...\n"
          ]
        }
      ],
      "source": [
        "print(\"[INFO] indexing file images dataset...\")\n",
        "type_dataset = ['valid', 'train']\n",
        "dataset_train = []\n",
        "dataset_val = []\n",
        "for type_set in type_dataset:\n",
        "    for class_item in class_dir:\n",
        "        cur_dir = os.path.join(base_dir, type_set, class_item)\n",
        "        for file in os.listdir(cur_dir): \n",
        "            if type_set == 'train':\n",
        "                dataset_train.append(os.path.join(cur_dir, file))\n",
        "            else:\n",
        "                dataset_val.append(os.path.join(cur_dir, file))\n",
        "\n",
        "print(\"[INFO] load images dataset...\")\n",
        "#  load images\n",
        "train_images = [] \n",
        "val_images = []\n",
        "for type_set in type_dataset:\n",
        "    cur_dataset = dataset_train if type_set == 'train' else dataset_val\n",
        "    for image_path in cur_dataset: \n",
        "        if \".png\" in image_path:\n",
        "            image = cv2.imread(image_path)\n",
        "            image = cv2.resize(image, IMAGE_SIZE)\n",
        "            if type_set == 'train':\n",
        "                train_images.append(image)\n",
        "            else:\n",
        "                val_images.append(image)"
      ]
    },
    {
      "cell_type": "markdown",
      "metadata": {
        "id": "JfUuMzmi1wDX"
      },
      "source": [
        "## Normalization"
      ]
    },
    {
      "cell_type": "code",
      "execution_count": null,
      "metadata": {
        "colab": {
          "base_uri": "https://localhost:8080/"
        },
        "id": "v2QoMnHC1zWV",
        "outputId": "7556844f-d3a5-409b-d87f-a88f7936f7b6"
      },
      "outputs": [
        {
          "output_type": "stream",
          "name": "stdout",
          "text": [
            "[INFO] normalization...\n"
          ]
        }
      ],
      "source": [
        "# # normalization\n",
        "print(\"[INFO] normalization...\")\n",
        "train_x = np.array(train_images).astype(\"float32\") / 255.0\n",
        "val_x = np.array(val_images).astype(\"float32\") / 255.0"
      ]
    },
    {
      "cell_type": "markdown",
      "metadata": {
        "id": "ahHRLqBo11pO"
      },
      "source": [
        "## Buiding Model based VGG19"
      ]
    },
    {
      "cell_type": "code",
      "execution_count": null,
      "metadata": {
        "id": "ZdCVQ1KEZcWm"
      },
      "outputs": [],
      "source": [
        "x = Conv1D(filters=16, kernel_size=3, strides=1, padding='same', activation='relu', input_shape=(3, 224, 224))\n",
        "x = Conv1D(filters=16, kernel_size=3, strides=1, padding='same', activation='relu',  input_shape=(64, 224, 224))\n",
        "x = MaxPooling2D(pool_size=(2, 2), strides=2, padding=\"valid\")\n",
        "x = Flatten()(vgg19.output)\n",
        "x = Dense(512, activation='relu')(x)\n",
        "x = Dense(128, activation='relu')(x)\n",
        "# x = Dense(64, activation='relu')(x)\n",
        "\n",
        "\n",
        "# Lapisan Terakhir dengan aktivasi sigmoid untuk output biner \n",
        "prediction = Dense(3, activation='sigmoid')(x)"
      ]
    },
    {
      "cell_type": "code",
      "execution_count": null,
      "metadata": {
        "colab": {
          "base_uri": "https://localhost:8080/"
        },
        "id": "Dr0tC5W146Vx",
        "outputId": "464d3213-9169-4c3d-ff19-1b4c97542b5c"
      },
      "outputs": [
        {
          "output_type": "stream",
          "name": "stdout",
          "text": [
            "[INFO] building auto encoder...\n",
            "Model: \"model\"\n",
            "_________________________________________________________________\n",
            " Layer (type)                Output Shape              Param #   \n",
            "=================================================================\n",
            " input_1 (InputLayer)        [(None, 128, 128, 3)]     0         \n",
            "                                                                 \n",
            " block1_conv1 (Conv2D)       (None, 128, 128, 64)      1792      \n",
            "                                                                 \n",
            " block1_conv2 (Conv2D)       (None, 128, 128, 64)      36928     \n",
            "                                                                 \n",
            " block1_pool (MaxPooling2D)  (None, 64, 64, 64)        0         \n",
            "                                                                 \n",
            " block2_conv1 (Conv2D)       (None, 64, 64, 128)       73856     \n",
            "                                                                 \n",
            " block2_conv2 (Conv2D)       (None, 64, 64, 128)       147584    \n",
            "                                                                 \n",
            " block2_pool (MaxPooling2D)  (None, 32, 32, 128)       0         \n",
            "                                                                 \n",
            " block3_conv1 (Conv2D)       (None, 32, 32, 256)       295168    \n",
            "                                                                 \n",
            " block3_conv2 (Conv2D)       (None, 32, 32, 256)       590080    \n",
            "                                                                 \n",
            " block3_conv3 (Conv2D)       (None, 32, 32, 256)       590080    \n",
            "                                                                 \n",
            " block3_conv4 (Conv2D)       (None, 32, 32, 256)       590080    \n",
            "                                                                 \n",
            " block3_pool (MaxPooling2D)  (None, 16, 16, 256)       0         \n",
            "                                                                 \n",
            " block4_conv1 (Conv2D)       (None, 16, 16, 512)       1180160   \n",
            "                                                                 \n",
            " block4_conv2 (Conv2D)       (None, 16, 16, 512)       2359808   \n",
            "                                                                 \n",
            " block4_conv3 (Conv2D)       (None, 16, 16, 512)       2359808   \n",
            "                                                                 \n",
            " block4_conv4 (Conv2D)       (None, 16, 16, 512)       2359808   \n",
            "                                                                 \n",
            " block4_pool (MaxPooling2D)  (None, 8, 8, 512)         0         \n",
            "                                                                 \n",
            " block5_conv1 (Conv2D)       (None, 8, 8, 512)         2359808   \n",
            "                                                                 \n",
            " block5_conv2 (Conv2D)       (None, 8, 8, 512)         2359808   \n",
            "                                                                 \n",
            " block5_conv3 (Conv2D)       (None, 8, 8, 512)         2359808   \n",
            "                                                                 \n",
            " block5_conv4 (Conv2D)       (None, 8, 8, 512)         2359808   \n",
            "                                                                 \n",
            " block5_pool (MaxPooling2D)  (None, 4, 4, 512)         0         \n",
            "                                                                 \n",
            " flatten (Flatten)           (None, 8192)              0         \n",
            "                                                                 \n",
            " dense (Dense)               (None, 512)               4194816   \n",
            "                                                                 \n",
            " dense_1 (Dense)             (None, 128)               65664     \n",
            "                                                                 \n",
            " dense_2 (Dense)             (None, 3)                 387       \n",
            "                                                                 \n",
            "=================================================================\n",
            "Total params: 24,285,251\n",
            "Trainable params: 4,260,867\n",
            "Non-trainable params: 20,024,384\n",
            "_________________________________________________________________\n"
          ]
        }
      ],
      "source": [
        "print(\"[INFO] building auto encoder...\")\n",
        "# Membuat objek model \n",
        "vgg19 = Model(inputs=vgg19.input, outputs=prediction)\n",
        "opt = Adam(learning_rate=INIT_LR, decay=INIT_LR / EPOCHS)\n",
        "checkpoint_callback = ModelCheckpoint(\n",
        "    filepath=checkpoint_path,\n",
        "    save_weights_only=True,\n",
        "    monitor=\"val_loss\",\n",
        "    verbose = 1,\n",
        "    mode='min',\n",
        "    save_best_only=True)\n",
        "vgg19.compile(loss=\"categorical_crossentropy\", optimizer=opt, metrics='accuracy')\n",
        "vgg19.summary()"
      ]
    },
    {
      "cell_type": "code",
      "execution_count": null,
      "metadata": {
        "id": "5ddb1V8ObE9Q"
      },
      "outputs": [],
      "source": [
        "train_datagen = ImageDataGenerator(rescale = 1./255,\n",
        "                                   shear_range = 0.2,\n",
        "                                   zoom_range = 0.2,\n",
        "                                   horizontal_flip = True)\n",
        "\n",
        "test_datagen = ImageDataGenerator(rescale = 1./255)"
      ]
    },
    {
      "cell_type": "code",
      "execution_count": null,
      "metadata": {
        "colab": {
          "base_uri": "https://localhost:8080/"
        },
        "id": "rzJ4vy6LbNzR",
        "outputId": "38a8194b-a7b4-4bbb-8245-bd366a29d464"
      },
      "outputs": [
        {
          "output_type": "stream",
          "name": "stdout",
          "text": [
            "Found 2144 images belonging to 3 classes.\n",
            "Found 307 images belonging to 3 classes.\n"
          ]
        }
      ],
      "source": [
        "training_set = train_datagen.flow_from_directory(train_dir,\n",
        "                                                 target_size = (128, 128),\n",
        "                                                 batch_size = 32,\n",
        "                                                 class_mode = 'categorical')\n",
        "\n",
        "test_set = test_datagen.flow_from_directory(val_dir,\n",
        "                                            target_size = (128, 128),\n",
        "                                            batch_size = 32,\n",
        "                                            class_mode = 'categorical')"
      ]
    },
    {
      "cell_type": "markdown",
      "metadata": {
        "id": "AHk07pZL2DdQ"
      },
      "source": [
        "## Training The Model"
      ]
    },
    {
      "cell_type": "code",
      "execution_count": null,
      "metadata": {
        "colab": {
          "base_uri": "https://localhost:8080/"
        },
        "id": "iR1qEEyX2J8-",
        "outputId": "76f536f3-caf0-4bc8-8b6e-932623a6af8b"
      },
      "outputs": [
        {
          "output_type": "stream",
          "name": "stdout",
          "text": [
            "[INFO] training vgg19...\n",
            "Epoch 1/100\n",
            "67/67 [==============================] - ETA: 0s - loss: 0.7654 - accuracy: 0.6544\n",
            "Epoch 00001: val_loss improved from inf to 0.80583, saving model to training_3_subclass_cp/cp.ckpt\n",
            "67/67 [==============================] - 48s 543ms/step - loss: 0.7654 - accuracy: 0.6544 - val_loss: 0.8058 - val_accuracy: 0.5440\n",
            "Epoch 2/100\n",
            "67/67 [==============================] - ETA: 0s - loss: 0.5473 - accuracy: 0.7603\n",
            "Epoch 00002: val_loss improved from 0.80583 to 0.63644, saving model to training_3_subclass_cp/cp.ckpt\n",
            "67/67 [==============================] - 35s 517ms/step - loss: 0.5473 - accuracy: 0.7603 - val_loss: 0.6364 - val_accuracy: 0.7134\n",
            "Epoch 3/100\n",
            "67/67 [==============================] - ETA: 0s - loss: 0.4886 - accuracy: 0.8055\n",
            "Epoch 00003: val_loss did not improve from 0.63644\n",
            "67/67 [==============================] - 34s 514ms/step - loss: 0.4886 - accuracy: 0.8055 - val_loss: 0.7350 - val_accuracy: 0.6319\n",
            "Epoch 4/100\n",
            "67/67 [==============================] - ETA: 0s - loss: 0.4088 - accuracy: 0.8293\n",
            "Epoch 00004: val_loss did not improve from 0.63644\n",
            "67/67 [==============================] - 34s 512ms/step - loss: 0.4088 - accuracy: 0.8293 - val_loss: 0.7475 - val_accuracy: 0.6645\n",
            "Epoch 5/100\n",
            "67/67 [==============================] - ETA: 0s - loss: 0.4077 - accuracy: 0.8377\n",
            "Epoch 00005: val_loss did not improve from 0.63644\n",
            "67/67 [==============================] - 34s 514ms/step - loss: 0.4077 - accuracy: 0.8377 - val_loss: 0.8280 - val_accuracy: 0.6156\n",
            "Epoch 6/100\n",
            "67/67 [==============================] - ETA: 0s - loss: 0.3626 - accuracy: 0.8601\n",
            "Epoch 00006: val_loss did not improve from 0.63644\n",
            "67/67 [==============================] - 34s 511ms/step - loss: 0.3626 - accuracy: 0.8601 - val_loss: 0.8122 - val_accuracy: 0.6319\n",
            "Epoch 7/100\n",
            "67/67 [==============================] - ETA: 0s - loss: 0.3199 - accuracy: 0.8797\n",
            "Epoch 00007: val_loss did not improve from 0.63644\n",
            "67/67 [==============================] - 34s 513ms/step - loss: 0.3199 - accuracy: 0.8797 - val_loss: 0.7366 - val_accuracy: 0.6775\n",
            "Epoch 8/100\n",
            "67/67 [==============================] - ETA: 0s - loss: 0.3121 - accuracy: 0.8811\n",
            "Epoch 00008: val_loss did not improve from 0.63644\n",
            "67/67 [==============================] - 34s 514ms/step - loss: 0.3121 - accuracy: 0.8811 - val_loss: 0.8655 - val_accuracy: 0.6287\n",
            "Epoch 9/100\n",
            "67/67 [==============================] - ETA: 0s - loss: 0.2882 - accuracy: 0.8829\n",
            "Epoch 00009: val_loss did not improve from 0.63644\n",
            "67/67 [==============================] - 34s 513ms/step - loss: 0.2882 - accuracy: 0.8829 - val_loss: 1.1297 - val_accuracy: 0.5537\n",
            "Epoch 10/100\n",
            "67/67 [==============================] - ETA: 0s - loss: 0.2685 - accuracy: 0.9016\n",
            "Epoch 00010: val_loss did not improve from 0.63644\n",
            "67/67 [==============================] - 34s 513ms/step - loss: 0.2685 - accuracy: 0.9016 - val_loss: 0.9253 - val_accuracy: 0.6319\n",
            "Epoch 11/100\n",
            "67/67 [==============================] - ETA: 0s - loss: 0.2489 - accuracy: 0.9090\n",
            "Epoch 00011: val_loss did not improve from 0.63644\n",
            "67/67 [==============================] - 34s 514ms/step - loss: 0.2489 - accuracy: 0.9090 - val_loss: 1.1495 - val_accuracy: 0.5896\n",
            "Epoch 12/100\n",
            "67/67 [==============================] - ETA: 0s - loss: 0.2642 - accuracy: 0.8983\n",
            "Epoch 00012: val_loss did not improve from 0.63644\n",
            "67/67 [==============================] - 34s 515ms/step - loss: 0.2642 - accuracy: 0.8983 - val_loss: 0.9643 - val_accuracy: 0.6059\n",
            "Epoch 13/100\n",
            "67/67 [==============================] - ETA: 0s - loss: 0.2488 - accuracy: 0.9049\n",
            "Epoch 00013: val_loss did not improve from 0.63644\n",
            "67/67 [==============================] - 34s 513ms/step - loss: 0.2488 - accuracy: 0.9049 - val_loss: 1.0049 - val_accuracy: 0.6124\n",
            "Epoch 14/100\n",
            "67/67 [==============================] - ETA: 0s - loss: 0.2208 - accuracy: 0.9230\n",
            "Epoch 00014: val_loss did not improve from 0.63644\n",
            "67/67 [==============================] - 34s 513ms/step - loss: 0.2208 - accuracy: 0.9230 - val_loss: 0.9448 - val_accuracy: 0.6384\n",
            "Epoch 15/100\n",
            "67/67 [==============================] - ETA: 0s - loss: 0.2243 - accuracy: 0.9137\n",
            "Epoch 00015: val_loss did not improve from 0.63644\n",
            "67/67 [==============================] - 36s 536ms/step - loss: 0.2243 - accuracy: 0.9137 - val_loss: 0.8822 - val_accuracy: 0.6580\n",
            "Epoch 16/100\n",
            "67/67 [==============================] - ETA: 0s - loss: 0.2015 - accuracy: 0.9263\n",
            "Epoch 00016: val_loss did not improve from 0.63644\n",
            "67/67 [==============================] - 34s 513ms/step - loss: 0.2015 - accuracy: 0.9263 - val_loss: 1.0516 - val_accuracy: 0.6254\n",
            "Epoch 17/100\n",
            "67/67 [==============================] - ETA: 0s - loss: 0.2086 - accuracy: 0.9221\n",
            "Epoch 00017: val_loss did not improve from 0.63644\n",
            "67/67 [==============================] - 35s 516ms/step - loss: 0.2086 - accuracy: 0.9221 - val_loss: 0.9209 - val_accuracy: 0.6287\n",
            "Epoch 18/100\n",
            "67/67 [==============================] - ETA: 0s - loss: 0.2075 - accuracy: 0.9198\n",
            "Epoch 00018: val_loss did not improve from 0.63644\n",
            "67/67 [==============================] - 34s 512ms/step - loss: 0.2075 - accuracy: 0.9198 - val_loss: 1.3503 - val_accuracy: 0.5863\n",
            "Epoch 19/100\n",
            "67/67 [==============================] - ETA: 0s - loss: 0.1828 - accuracy: 0.9328\n",
            "Epoch 00019: val_loss did not improve from 0.63644\n",
            "67/67 [==============================] - 34s 513ms/step - loss: 0.1828 - accuracy: 0.9328 - val_loss: 1.3412 - val_accuracy: 0.5831\n",
            "Epoch 20/100\n",
            "67/67 [==============================] - ETA: 0s - loss: 0.1748 - accuracy: 0.9366\n",
            "Epoch 00020: val_loss did not improve from 0.63644\n",
            "67/67 [==============================] - 34s 512ms/step - loss: 0.1748 - accuracy: 0.9366 - val_loss: 1.1198 - val_accuracy: 0.6319\n",
            "Epoch 21/100\n",
            "67/67 [==============================] - ETA: 0s - loss: 0.1792 - accuracy: 0.9286\n",
            "Epoch 00021: val_loss did not improve from 0.63644\n",
            "67/67 [==============================] - 34s 515ms/step - loss: 0.1792 - accuracy: 0.9286 - val_loss: 0.9685 - val_accuracy: 0.6710\n",
            "Epoch 22/100\n",
            "67/67 [==============================] - ETA: 0s - loss: 0.1806 - accuracy: 0.9342\n",
            "Epoch 00022: val_loss did not improve from 0.63644\n",
            "67/67 [==============================] - 34s 514ms/step - loss: 0.1806 - accuracy: 0.9342 - val_loss: 1.5664 - val_accuracy: 0.5603\n",
            "Epoch 23/100\n",
            "67/67 [==============================] - ETA: 0s - loss: 0.1501 - accuracy: 0.9454\n",
            "Epoch 00023: val_loss did not improve from 0.63644\n",
            "67/67 [==============================] - 35s 516ms/step - loss: 0.1501 - accuracy: 0.9454 - val_loss: 1.4184 - val_accuracy: 0.5798\n",
            "Epoch 24/100\n",
            "67/67 [==============================] - ETA: 0s - loss: 0.1523 - accuracy: 0.9478\n",
            "Epoch 00024: val_loss did not improve from 0.63644\n",
            "67/67 [==============================] - 35s 516ms/step - loss: 0.1523 - accuracy: 0.9478 - val_loss: 1.3997 - val_accuracy: 0.5831\n",
            "Epoch 25/100\n",
            "67/67 [==============================] - ETA: 0s - loss: 0.1581 - accuracy: 0.9398\n",
            "Epoch 00025: val_loss did not improve from 0.63644\n",
            "67/67 [==============================] - 35s 516ms/step - loss: 0.1581 - accuracy: 0.9398 - val_loss: 1.3499 - val_accuracy: 0.6026\n",
            "Epoch 26/100\n",
            "67/67 [==============================] - ETA: 0s - loss: 0.1425 - accuracy: 0.9422\n",
            "Epoch 00026: val_loss did not improve from 0.63644\n",
            "67/67 [==============================] - 35s 517ms/step - loss: 0.1425 - accuracy: 0.9422 - val_loss: 1.1970 - val_accuracy: 0.6482\n",
            "Epoch 27/100\n",
            "67/67 [==============================] - ETA: 0s - loss: 0.1431 - accuracy: 0.9501\n",
            "Epoch 00027: val_loss did not improve from 0.63644\n",
            "67/67 [==============================] - 35s 518ms/step - loss: 0.1431 - accuracy: 0.9501 - val_loss: 1.3894 - val_accuracy: 0.6091\n",
            "Epoch 28/100\n",
            "67/67 [==============================] - ETA: 0s - loss: 0.1387 - accuracy: 0.9510\n",
            "Epoch 00028: val_loss did not improve from 0.63644\n",
            "67/67 [==============================] - 35s 519ms/step - loss: 0.1387 - accuracy: 0.9510 - val_loss: 1.2201 - val_accuracy: 0.6254\n",
            "Epoch 29/100\n",
            "67/67 [==============================] - ETA: 0s - loss: 0.1371 - accuracy: 0.9501\n",
            "Epoch 00029: val_loss did not improve from 0.63644\n",
            "67/67 [==============================] - 35s 519ms/step - loss: 0.1371 - accuracy: 0.9501 - val_loss: 1.0609 - val_accuracy: 0.6678\n",
            "Epoch 30/100\n",
            "67/67 [==============================] - ETA: 0s - loss: 0.1664 - accuracy: 0.9375\n",
            "Epoch 00030: val_loss did not improve from 0.63644\n",
            "67/67 [==============================] - 35s 519ms/step - loss: 0.1664 - accuracy: 0.9375 - val_loss: 1.2963 - val_accuracy: 0.6189\n",
            "Epoch 31/100\n",
            "67/67 [==============================] - ETA: 0s - loss: 0.1260 - accuracy: 0.9534\n",
            "Epoch 00031: val_loss did not improve from 0.63644\n",
            "67/67 [==============================] - 35s 517ms/step - loss: 0.1260 - accuracy: 0.9534 - val_loss: 1.4043 - val_accuracy: 0.6319\n",
            "Epoch 32/100\n",
            "67/67 [==============================] - ETA: 0s - loss: 0.1290 - accuracy: 0.9515\n",
            "Epoch 00032: val_loss did not improve from 0.63644\n",
            "67/67 [==============================] - 35s 515ms/step - loss: 0.1290 - accuracy: 0.9515 - val_loss: 0.9967 - val_accuracy: 0.6775\n",
            "Epoch 33/100\n",
            "67/67 [==============================] - ETA: 0s - loss: 0.1357 - accuracy: 0.9501\n",
            "Epoch 00033: val_loss did not improve from 0.63644\n",
            "67/67 [==============================] - 35s 516ms/step - loss: 0.1357 - accuracy: 0.9501 - val_loss: 1.4726 - val_accuracy: 0.6091\n",
            "Epoch 34/100\n",
            "67/67 [==============================] - ETA: 0s - loss: 0.0953 - accuracy: 0.9706\n",
            "Epoch 00034: val_loss did not improve from 0.63644\n",
            "67/67 [==============================] - 34s 513ms/step - loss: 0.0953 - accuracy: 0.9706 - val_loss: 1.4087 - val_accuracy: 0.6124\n",
            "Epoch 35/100\n",
            "67/67 [==============================] - ETA: 0s - loss: 0.1006 - accuracy: 0.9683\n",
            "Epoch 00035: val_loss did not improve from 0.63644\n",
            "67/67 [==============================] - 34s 514ms/step - loss: 0.1006 - accuracy: 0.9683 - val_loss: 2.2433 - val_accuracy: 0.5537\n",
            "Epoch 36/100\n",
            "67/67 [==============================] - ETA: 0s - loss: 0.1213 - accuracy: 0.9566\n",
            "Epoch 00036: val_loss did not improve from 0.63644\n",
            "67/67 [==============================] - 34s 511ms/step - loss: 0.1213 - accuracy: 0.9566 - val_loss: 1.3647 - val_accuracy: 0.6319\n",
            "Epoch 37/100\n",
            "67/67 [==============================] - ETA: 0s - loss: 0.1128 - accuracy: 0.9580\n",
            "Epoch 00037: val_loss did not improve from 0.63644\n",
            "67/67 [==============================] - 34s 510ms/step - loss: 0.1128 - accuracy: 0.9580 - val_loss: 1.6886 - val_accuracy: 0.5928\n",
            "Epoch 38/100\n",
            "67/67 [==============================] - ETA: 0s - loss: 0.0816 - accuracy: 0.9729\n",
            "Epoch 00038: val_loss did not improve from 0.63644\n",
            "67/67 [==============================] - 34s 511ms/step - loss: 0.0816 - accuracy: 0.9729 - val_loss: 1.3609 - val_accuracy: 0.6156\n",
            "Epoch 39/100\n",
            "67/67 [==============================] - ETA: 0s - loss: 0.1077 - accuracy: 0.9608\n",
            "Epoch 00039: val_loss did not improve from 0.63644\n",
            "67/67 [==============================] - 34s 512ms/step - loss: 0.1077 - accuracy: 0.9608 - val_loss: 1.3362 - val_accuracy: 0.6319\n",
            "Epoch 40/100\n",
            "67/67 [==============================] - ETA: 0s - loss: 0.0912 - accuracy: 0.9692\n",
            "Epoch 00040: val_loss did not improve from 0.63644\n",
            "67/67 [==============================] - 34s 512ms/step - loss: 0.0912 - accuracy: 0.9692 - val_loss: 1.6906 - val_accuracy: 0.5961\n",
            "Epoch 41/100\n",
            "67/67 [==============================] - ETA: 0s - loss: 0.0818 - accuracy: 0.9762\n",
            "Epoch 00041: val_loss did not improve from 0.63644\n",
            "67/67 [==============================] - 34s 511ms/step - loss: 0.0818 - accuracy: 0.9762 - val_loss: 1.3165 - val_accuracy: 0.6710\n",
            "Epoch 42/100\n",
            "67/67 [==============================] - ETA: 0s - loss: 0.0971 - accuracy: 0.9669\n",
            "Epoch 00042: val_loss did not improve from 0.63644\n",
            "67/67 [==============================] - 34s 511ms/step - loss: 0.0971 - accuracy: 0.9669 - val_loss: 1.6554 - val_accuracy: 0.5928\n",
            "Epoch 43/100\n",
            "67/67 [==============================] - ETA: 0s - loss: 0.1119 - accuracy: 0.9599\n",
            "Epoch 00043: val_loss did not improve from 0.63644\n",
            "67/67 [==============================] - 34s 513ms/step - loss: 0.1119 - accuracy: 0.9599 - val_loss: 1.9614 - val_accuracy: 0.5537\n",
            "Epoch 44/100\n",
            "67/67 [==============================] - ETA: 0s - loss: 0.0883 - accuracy: 0.9688\n",
            "Epoch 00044: val_loss did not improve from 0.63644\n",
            "67/67 [==============================] - 34s 514ms/step - loss: 0.0883 - accuracy: 0.9688 - val_loss: 1.1744 - val_accuracy: 0.6775\n",
            "Epoch 45/100\n",
            "67/67 [==============================] - ETA: 0s - loss: 0.0997 - accuracy: 0.9646\n",
            "Epoch 00045: val_loss did not improve from 0.63644\n",
            "67/67 [==============================] - 34s 512ms/step - loss: 0.0997 - accuracy: 0.9646 - val_loss: 1.8179 - val_accuracy: 0.5993\n",
            "Epoch 46/100\n",
            "67/67 [==============================] - ETA: 0s - loss: 0.0834 - accuracy: 0.9683\n",
            "Epoch 00046: val_loss did not improve from 0.63644\n",
            "67/67 [==============================] - 34s 514ms/step - loss: 0.0834 - accuracy: 0.9683 - val_loss: 1.5243 - val_accuracy: 0.6384\n",
            "Epoch 47/100\n",
            "67/67 [==============================] - ETA: 0s - loss: 0.0997 - accuracy: 0.9646\n",
            "Epoch 00047: val_loss did not improve from 0.63644\n",
            "67/67 [==============================] - 34s 514ms/step - loss: 0.0997 - accuracy: 0.9646 - val_loss: 2.0566 - val_accuracy: 0.5635\n",
            "Epoch 48/100\n",
            "67/67 [==============================] - ETA: 0s - loss: 0.0820 - accuracy: 0.9688\n",
            "Epoch 00048: val_loss did not improve from 0.63644\n",
            "67/67 [==============================] - 34s 515ms/step - loss: 0.0820 - accuracy: 0.9688 - val_loss: 1.7296 - val_accuracy: 0.5928\n",
            "Epoch 49/100\n",
            "67/67 [==============================] - ETA: 0s - loss: 0.0853 - accuracy: 0.9697\n",
            "Epoch 00049: val_loss did not improve from 0.63644\n",
            "67/67 [==============================] - 35s 515ms/step - loss: 0.0853 - accuracy: 0.9697 - val_loss: 1.9226 - val_accuracy: 0.5798\n",
            "Epoch 50/100\n",
            "67/67 [==============================] - ETA: 0s - loss: 0.0854 - accuracy: 0.9725\n",
            "Epoch 00050: val_loss did not improve from 0.63644\n",
            "67/67 [==============================] - 35s 516ms/step - loss: 0.0854 - accuracy: 0.9725 - val_loss: 1.8500 - val_accuracy: 0.5831\n",
            "Epoch 51/100\n",
            "67/67 [==============================] - ETA: 0s - loss: 0.0672 - accuracy: 0.9762\n",
            "Epoch 00051: val_loss did not improve from 0.63644\n",
            "67/67 [==============================] - 34s 513ms/step - loss: 0.0672 - accuracy: 0.9762 - val_loss: 1.7156 - val_accuracy: 0.5896\n",
            "Epoch 52/100\n",
            "67/67 [==============================] - ETA: 0s - loss: 0.0780 - accuracy: 0.9711\n",
            "Epoch 00052: val_loss did not improve from 0.63644\n",
            "67/67 [==============================] - 34s 513ms/step - loss: 0.0780 - accuracy: 0.9711 - val_loss: 1.5099 - val_accuracy: 0.5831\n",
            "Epoch 53/100\n",
            "67/67 [==============================] - ETA: 0s - loss: 0.0780 - accuracy: 0.9697\n",
            "Epoch 00053: val_loss did not improve from 0.63644\n",
            "67/67 [==============================] - 34s 515ms/step - loss: 0.0780 - accuracy: 0.9697 - val_loss: 1.7314 - val_accuracy: 0.6287\n",
            "Epoch 54/100\n",
            "67/67 [==============================] - ETA: 0s - loss: 0.0689 - accuracy: 0.9795\n",
            "Epoch 00054: val_loss did not improve from 0.63644\n",
            "67/67 [==============================] - 34s 514ms/step - loss: 0.0689 - accuracy: 0.9795 - val_loss: 2.3004 - val_accuracy: 0.5863\n",
            "Epoch 55/100\n",
            "67/67 [==============================] - ETA: 0s - loss: 0.0727 - accuracy: 0.9748\n",
            "Epoch 00055: val_loss did not improve from 0.63644\n",
            "67/67 [==============================] - 34s 514ms/step - loss: 0.0727 - accuracy: 0.9748 - val_loss: 1.8000 - val_accuracy: 0.5863\n",
            "Epoch 56/100\n",
            "67/67 [==============================] - ETA: 0s - loss: 0.0765 - accuracy: 0.9743\n",
            "Epoch 00056: val_loss did not improve from 0.63644\n",
            "67/67 [==============================] - 34s 514ms/step - loss: 0.0765 - accuracy: 0.9743 - val_loss: 1.8809 - val_accuracy: 0.5863\n",
            "Epoch 57/100\n",
            "67/67 [==============================] - ETA: 0s - loss: 0.0770 - accuracy: 0.9743\n",
            "Epoch 00057: val_loss did not improve from 0.63644\n",
            "67/67 [==============================] - 34s 512ms/step - loss: 0.0770 - accuracy: 0.9743 - val_loss: 1.6067 - val_accuracy: 0.6417\n",
            "Epoch 58/100\n",
            "67/67 [==============================] - ETA: 0s - loss: 0.0704 - accuracy: 0.9757\n",
            "Epoch 00058: val_loss did not improve from 0.63644\n",
            "67/67 [==============================] - 35s 515ms/step - loss: 0.0704 - accuracy: 0.9757 - val_loss: 2.1112 - val_accuracy: 0.5863\n",
            "Epoch 59/100\n",
            "67/67 [==============================] - ETA: 0s - loss: 0.0903 - accuracy: 0.9655\n",
            "Epoch 00059: val_loss did not improve from 0.63644\n",
            "67/67 [==============================] - 35s 515ms/step - loss: 0.0903 - accuracy: 0.9655 - val_loss: 1.7512 - val_accuracy: 0.5863\n",
            "Epoch 60/100\n",
            "67/67 [==============================] - ETA: 0s - loss: 0.0819 - accuracy: 0.9683\n",
            "Epoch 00060: val_loss did not improve from 0.63644\n",
            "67/67 [==============================] - 35s 515ms/step - loss: 0.0819 - accuracy: 0.9683 - val_loss: 1.8940 - val_accuracy: 0.5896\n",
            "Epoch 61/100\n",
            "67/67 [==============================] - ETA: 0s - loss: 0.0678 - accuracy: 0.9743\n",
            "Epoch 00061: val_loss did not improve from 0.63644\n",
            "67/67 [==============================] - 34s 514ms/step - loss: 0.0678 - accuracy: 0.9743 - val_loss: 2.4741 - val_accuracy: 0.5570\n",
            "Epoch 62/100\n",
            "67/67 [==============================] - ETA: 0s - loss: 0.1003 - accuracy: 0.9604\n",
            "Epoch 00062: val_loss did not improve from 0.63644\n",
            "67/67 [==============================] - 34s 514ms/step - loss: 0.1003 - accuracy: 0.9604 - val_loss: 2.4161 - val_accuracy: 0.5603\n",
            "Epoch 63/100\n",
            "67/67 [==============================] - ETA: 0s - loss: 0.0612 - accuracy: 0.9771\n",
            "Epoch 00063: val_loss did not improve from 0.63644\n",
            "67/67 [==============================] - 35s 515ms/step - loss: 0.0612 - accuracy: 0.9771 - val_loss: 1.4827 - val_accuracy: 0.6482\n",
            "Epoch 64/100\n",
            "67/67 [==============================] - ETA: 0s - loss: 0.0536 - accuracy: 0.9827\n",
            "Epoch 00064: val_loss did not improve from 0.63644\n",
            "67/67 [==============================] - 34s 513ms/step - loss: 0.0536 - accuracy: 0.9827 - val_loss: 1.6683 - val_accuracy: 0.6091\n",
            "Epoch 65/100\n",
            "67/67 [==============================] - ETA: 0s - loss: 0.0591 - accuracy: 0.9799\n",
            "Epoch 00065: val_loss did not improve from 0.63644\n",
            "67/67 [==============================] - 34s 514ms/step - loss: 0.0591 - accuracy: 0.9799 - val_loss: 1.5696 - val_accuracy: 0.5798\n",
            "Epoch 66/100\n",
            "67/67 [==============================] - ETA: 0s - loss: 0.0523 - accuracy: 0.9865\n",
            "Epoch 00066: val_loss did not improve from 0.63644\n",
            "67/67 [==============================] - 35s 523ms/step - loss: 0.0523 - accuracy: 0.9865 - val_loss: 2.0545 - val_accuracy: 0.6059\n",
            "Epoch 67/100\n",
            "67/67 [==============================] - ETA: 0s - loss: 0.0466 - accuracy: 0.9874\n",
            "Epoch 00067: val_loss did not improve from 0.63644\n",
            "67/67 [==============================] - 36s 532ms/step - loss: 0.0466 - accuracy: 0.9874 - val_loss: 1.4194 - val_accuracy: 0.6515\n",
            "Epoch 68/100\n",
            "67/67 [==============================] - ETA: 0s - loss: 0.0650 - accuracy: 0.9762\n",
            "Epoch 00068: val_loss did not improve from 0.63644\n",
            "67/67 [==============================] - 35s 515ms/step - loss: 0.0650 - accuracy: 0.9762 - val_loss: 2.2755 - val_accuracy: 0.5765\n",
            "Epoch 69/100\n",
            "67/67 [==============================] - ETA: 0s - loss: 0.0480 - accuracy: 0.9837\n",
            "Epoch 00069: val_loss did not improve from 0.63644\n",
            "67/67 [==============================] - 34s 513ms/step - loss: 0.0480 - accuracy: 0.9837 - val_loss: 1.5291 - val_accuracy: 0.6352\n",
            "Epoch 70/100\n",
            "67/67 [==============================] - ETA: 0s - loss: 0.0534 - accuracy: 0.9809\n",
            "Epoch 00070: val_loss did not improve from 0.63644\n",
            "67/67 [==============================] - 35s 516ms/step - loss: 0.0534 - accuracy: 0.9809 - val_loss: 2.1933 - val_accuracy: 0.5993\n",
            "Epoch 71/100\n",
            "67/67 [==============================] - ETA: 0s - loss: 0.0489 - accuracy: 0.9813\n",
            "Epoch 00071: val_loss did not improve from 0.63644\n",
            "67/67 [==============================] - 35s 517ms/step - loss: 0.0489 - accuracy: 0.9813 - val_loss: 1.7406 - val_accuracy: 0.5993\n",
            "Epoch 72/100\n",
            "67/67 [==============================] - ETA: 0s - loss: 0.0435 - accuracy: 0.9851\n",
            "Epoch 00072: val_loss did not improve from 0.63644\n",
            "67/67 [==============================] - 35s 527ms/step - loss: 0.0435 - accuracy: 0.9851 - val_loss: 2.2272 - val_accuracy: 0.5961\n",
            "Epoch 73/100\n",
            "67/67 [==============================] - ETA: 0s - loss: 0.0593 - accuracy: 0.9795\n",
            "Epoch 00073: val_loss did not improve from 0.63644\n",
            "67/67 [==============================] - 34s 514ms/step - loss: 0.0593 - accuracy: 0.9795 - val_loss: 2.5034 - val_accuracy: 0.5375\n",
            "Epoch 74/100\n",
            "67/67 [==============================] - ETA: 0s - loss: 0.0710 - accuracy: 0.9734\n",
            "Epoch 00074: val_loss did not improve from 0.63644\n",
            "67/67 [==============================] - 35s 515ms/step - loss: 0.0710 - accuracy: 0.9734 - val_loss: 1.9289 - val_accuracy: 0.5993\n",
            "Epoch 75/100\n",
            "67/67 [==============================] - ETA: 0s - loss: 0.0585 - accuracy: 0.9785\n",
            "Epoch 00075: val_loss did not improve from 0.63644\n",
            "67/67 [==============================] - 35s 517ms/step - loss: 0.0585 - accuracy: 0.9785 - val_loss: 2.1992 - val_accuracy: 0.5733\n",
            "Epoch 76/100\n",
            "67/67 [==============================] - ETA: 0s - loss: 0.0463 - accuracy: 0.9851\n",
            "Epoch 00076: val_loss did not improve from 0.63644\n",
            "67/67 [==============================] - 34s 515ms/step - loss: 0.0463 - accuracy: 0.9851 - val_loss: 1.8342 - val_accuracy: 0.6287\n",
            "Epoch 77/100\n",
            "67/67 [==============================] - ETA: 0s - loss: 0.0544 - accuracy: 0.9781\n",
            "Epoch 00077: val_loss did not improve from 0.63644\n",
            "67/67 [==============================] - 35s 516ms/step - loss: 0.0544 - accuracy: 0.9781 - val_loss: 1.7613 - val_accuracy: 0.6287\n",
            "Epoch 78/100\n",
            "67/67 [==============================] - ETA: 0s - loss: 0.0441 - accuracy: 0.9846\n",
            "Epoch 00078: val_loss did not improve from 0.63644\n",
            "67/67 [==============================] - 34s 511ms/step - loss: 0.0441 - accuracy: 0.9846 - val_loss: 2.1468 - val_accuracy: 0.6059\n",
            "Epoch 79/100\n",
            "67/67 [==============================] - ETA: 0s - loss: 0.0619 - accuracy: 0.9743\n",
            "Epoch 00079: val_loss did not improve from 0.63644\n",
            "67/67 [==============================] - 34s 513ms/step - loss: 0.0619 - accuracy: 0.9743 - val_loss: 1.9056 - val_accuracy: 0.5928\n",
            "Epoch 80/100\n",
            "67/67 [==============================] - ETA: 0s - loss: 0.0400 - accuracy: 0.9874\n",
            "Epoch 00080: val_loss did not improve from 0.63644\n",
            "67/67 [==============================] - 34s 514ms/step - loss: 0.0400 - accuracy: 0.9874 - val_loss: 1.7042 - val_accuracy: 0.6515\n",
            "Epoch 81/100\n",
            "67/67 [==============================] - ETA: 0s - loss: 0.0500 - accuracy: 0.9818\n",
            "Epoch 00081: val_loss did not improve from 0.63644\n",
            "67/67 [==============================] - 34s 512ms/step - loss: 0.0500 - accuracy: 0.9818 - val_loss: 2.3255 - val_accuracy: 0.5928\n",
            "Epoch 82/100\n",
            "67/67 [==============================] - ETA: 0s - loss: 0.0538 - accuracy: 0.9785\n",
            "Epoch 00082: val_loss did not improve from 0.63644\n",
            "67/67 [==============================] - 34s 515ms/step - loss: 0.0538 - accuracy: 0.9785 - val_loss: 1.7032 - val_accuracy: 0.6482\n",
            "Epoch 83/100\n",
            "67/67 [==============================] - ETA: 0s - loss: 0.0659 - accuracy: 0.9767\n",
            "Epoch 00083: val_loss did not improve from 0.63644\n",
            "67/67 [==============================] - 34s 514ms/step - loss: 0.0659 - accuracy: 0.9767 - val_loss: 1.8001 - val_accuracy: 0.6221\n",
            "Epoch 84/100\n",
            "67/67 [==============================] - ETA: 0s - loss: 0.0477 - accuracy: 0.9837\n",
            "Epoch 00084: val_loss did not improve from 0.63644\n",
            "67/67 [==============================] - 35s 517ms/step - loss: 0.0477 - accuracy: 0.9837 - val_loss: 1.7911 - val_accuracy: 0.6515\n",
            "Epoch 85/100\n",
            "67/67 [==============================] - ETA: 0s - loss: 0.0458 - accuracy: 0.9851\n",
            "Epoch 00085: val_loss did not improve from 0.63644\n",
            "67/67 [==============================] - 35s 517ms/step - loss: 0.0458 - accuracy: 0.9851 - val_loss: 1.9242 - val_accuracy: 0.6254\n",
            "Epoch 86/100\n",
            "67/67 [==============================] - ETA: 0s - loss: 0.0479 - accuracy: 0.9851\n",
            "Epoch 00086: val_loss did not improve from 0.63644\n",
            "67/67 [==============================] - 35s 516ms/step - loss: 0.0479 - accuracy: 0.9851 - val_loss: 2.0124 - val_accuracy: 0.6221\n",
            "Epoch 87/100\n",
            "67/67 [==============================] - ETA: 0s - loss: 0.0902 - accuracy: 0.9669\n",
            "Epoch 00087: val_loss did not improve from 0.63644\n",
            "67/67 [==============================] - 35s 517ms/step - loss: 0.0902 - accuracy: 0.9669 - val_loss: 1.7668 - val_accuracy: 0.6319\n",
            "Epoch 88/100\n",
            "67/67 [==============================] - ETA: 0s - loss: 0.0382 - accuracy: 0.9893\n",
            "Epoch 00088: val_loss did not improve from 0.63644\n",
            "67/67 [==============================] - 35s 526ms/step - loss: 0.0382 - accuracy: 0.9893 - val_loss: 2.4369 - val_accuracy: 0.6091\n",
            "Epoch 89/100\n",
            "67/67 [==============================] - ETA: 0s - loss: 0.0371 - accuracy: 0.9860\n",
            "Epoch 00089: val_loss did not improve from 0.63644\n",
            "67/67 [==============================] - 35s 522ms/step - loss: 0.0371 - accuracy: 0.9860 - val_loss: 2.4302 - val_accuracy: 0.5831\n",
            "Epoch 90/100\n",
            "67/67 [==============================] - ETA: 0s - loss: 0.0628 - accuracy: 0.9762\n",
            "Epoch 00090: val_loss did not improve from 0.63644\n",
            "67/67 [==============================] - 34s 512ms/step - loss: 0.0628 - accuracy: 0.9762 - val_loss: 2.4711 - val_accuracy: 0.5765\n",
            "Epoch 91/100\n",
            "67/67 [==============================] - ETA: 0s - loss: 0.0463 - accuracy: 0.9832\n",
            "Epoch 00091: val_loss did not improve from 0.63644\n",
            "67/67 [==============================] - 34s 515ms/step - loss: 0.0463 - accuracy: 0.9832 - val_loss: 2.5380 - val_accuracy: 0.5863\n",
            "Epoch 92/100\n",
            "67/67 [==============================] - ETA: 0s - loss: 0.0392 - accuracy: 0.9897\n",
            "Epoch 00092: val_loss did not improve from 0.63644\n",
            "67/67 [==============================] - 34s 511ms/step - loss: 0.0392 - accuracy: 0.9897 - val_loss: 2.1485 - val_accuracy: 0.5961\n",
            "Epoch 93/100\n",
            "67/67 [==============================] - ETA: 0s - loss: 0.0276 - accuracy: 0.9925\n",
            "Epoch 00093: val_loss did not improve from 0.63644\n",
            "67/67 [==============================] - 34s 514ms/step - loss: 0.0276 - accuracy: 0.9925 - val_loss: 3.3004 - val_accuracy: 0.5440\n",
            "Epoch 94/100\n",
            "67/67 [==============================] - ETA: 0s - loss: 0.0402 - accuracy: 0.9869\n",
            "Epoch 00094: val_loss did not improve from 0.63644\n",
            "67/67 [==============================] - 34s 512ms/step - loss: 0.0402 - accuracy: 0.9869 - val_loss: 1.6722 - val_accuracy: 0.6515\n",
            "Epoch 95/100\n",
            "67/67 [==============================] - ETA: 0s - loss: 0.0375 - accuracy: 0.9883\n",
            "Epoch 00095: val_loss did not improve from 0.63644\n",
            "67/67 [==============================] - 35s 523ms/step - loss: 0.0375 - accuracy: 0.9883 - val_loss: 1.8976 - val_accuracy: 0.6319\n",
            "Epoch 96/100\n",
            "67/67 [==============================] - ETA: 0s - loss: 0.0420 - accuracy: 0.9865\n",
            "Epoch 00096: val_loss did not improve from 0.63644\n",
            "67/67 [==============================] - 35s 519ms/step - loss: 0.0420 - accuracy: 0.9865 - val_loss: 2.1553 - val_accuracy: 0.6026\n",
            "Epoch 97/100\n",
            "67/67 [==============================] - ETA: 0s - loss: 0.0397 - accuracy: 0.9865\n",
            "Epoch 00097: val_loss did not improve from 0.63644\n",
            "67/67 [==============================] - 34s 513ms/step - loss: 0.0397 - accuracy: 0.9865 - val_loss: 2.2896 - val_accuracy: 0.5961\n",
            "Epoch 98/100\n",
            "67/67 [==============================] - ETA: 0s - loss: 0.0332 - accuracy: 0.9907\n",
            "Epoch 00098: val_loss did not improve from 0.63644\n",
            "67/67 [==============================] - 34s 515ms/step - loss: 0.0332 - accuracy: 0.9907 - val_loss: 2.4113 - val_accuracy: 0.6059\n",
            "Epoch 99/100\n",
            "67/67 [==============================] - ETA: 0s - loss: 0.0443 - accuracy: 0.9851\n",
            "Epoch 00099: val_loss did not improve from 0.63644\n",
            "67/67 [==============================] - 34s 512ms/step - loss: 0.0443 - accuracy: 0.9851 - val_loss: 2.2507 - val_accuracy: 0.6156\n",
            "Epoch 100/100\n",
            "67/67 [==============================] - ETA: 0s - loss: 0.0379 - accuracy: 0.9869\n",
            "Epoch 00100: val_loss did not improve from 0.63644\n",
            "67/67 [==============================] - 34s 511ms/step - loss: 0.0379 - accuracy: 0.9869 - val_loss: 2.3814 - val_accuracy: 0.6059\n"
          ]
        }
      ],
      "source": [
        "# train the vgg19\n",
        "print(\"[INFO] training vgg19...\")\n",
        "H = vgg19.fit(\n",
        "    training_set,\n",
        "    shuffle=True,\n",
        "    validation_data=test_set,\n",
        "    epochs=EPOCHS,\n",
        "    callbacks = [checkpoint_callback],\n",
        "    batch_size=BS)"
      ]
    },
    {
      "cell_type": "markdown",
      "metadata": {
        "id": "NGP0dXvg2Lze"
      },
      "source": [
        "## Saved Result Graphic (.json) and Model Trained (h5)"
      ]
    },
    {
      "cell_type": "code",
      "execution_count": null,
      "metadata": {
        "id": "4W49P0jq2Zt-"
      },
      "outputs": [],
      "source": [
        "with open(history_path, 'w') as f:\n",
        "    json.dump(H.history, f)\n",
        "vgg19.save(model_path)"
      ]
    },
    {
      "cell_type": "code",
      "execution_count": null,
      "metadata": {
        "colab": {
          "base_uri": "https://localhost:8080/"
        },
        "id": "4Nxlspsg597B",
        "outputId": "d4df7da3-32b9-4c2a-d516-c584431ce849"
      },
      "outputs": [
        {
          "output_type": "stream",
          "name": "stdout",
          "text": [
            "Convolutional autoencoder score: [2.381366491317749, 0.6058632135391235]\n",
            "Test Loss: 2.381366491317749\n",
            "Test Accuracy: 0.6058632135391235\n"
          ]
        }
      ],
      "source": [
        "reconstruction_score = vgg19.evaluate(test_set, verbose=0)\n",
        "print(\"Convolutional autoencoder score:\", reconstruction_score)\n",
        "print(\"Test Loss:\", reconstruction_score[0])\n",
        "print(\"Test Accuracy:\", reconstruction_score[1])"
      ]
    },
    {
      "cell_type": "markdown",
      "metadata": {
        "id": "YiaL-r9o3wMW"
      },
      "source": [
        "# Extract Feature Stage"
      ]
    },
    {
      "cell_type": "markdown",
      "metadata": {
        "id": "WDJy4NT43-tO"
      },
      "source": [
        "## Load already trained model and extracting feature\n"
      ]
    },
    {
      "cell_type": "code",
      "execution_count": null,
      "metadata": {
        "colab": {
          "base_uri": "https://localhost:8080/"
        },
        "id": "eN11l1iF4DUW",
        "outputId": "f096467c-8c22-492e-b7f1-6f290182fca6"
      },
      "outputs": [
        {
          "output_type": "stream",
          "name": "stdout",
          "text": [
            "[INFO] encoding images...\n"
          ]
        },
        {
          "output_type": "execute_result",
          "data": {
            "text/plain": [
              "array([[9.98123229e-01, 6.61821365e-01, 3.59862787e-03],\n",
              "       [9.99859929e-01, 3.90853137e-02, 5.77677833e-03],\n",
              "       [9.99593318e-01, 7.88515806e-01, 1.91398271e-04],\n",
              "       ...,\n",
              "       [1.01917505e-03, 8.84122729e-01, 9.95956123e-01],\n",
              "       [5.44330571e-03, 7.93924987e-01, 9.91844594e-01],\n",
              "       [1.09817505e-01, 4.48043138e-01, 9.14929688e-01]], dtype=float32)"
            ]
          },
          "metadata": {},
          "execution_count": 19
        }
      ],
      "source": [
        "# quantify the contents of our input images using the encoder\n",
        "print(\"[INFO] encoding images...\")\n",
        "features = vgg19.predict(train_x)\n",
        "features"
      ]
    },
    {
      "cell_type": "markdown",
      "metadata": {
        "id": "RwRiJP-84VaP"
      },
      "source": [
        "## Create mapping feature included location images, label, feature and indexing number"
      ]
    },
    {
      "cell_type": "code",
      "execution_count": null,
      "metadata": {
        "id": "ItHAs9Aj4fm_"
      },
      "outputs": [],
      "source": [
        "indexes = list(range(0, train_x.shape[0]))\n",
        "features_array = [[float(x) for x in y] for y in features]\n",
        "labels = [path.split(\"/\")[5] for path in dataset_train]\n",
        "data = {\"indexes\": indexes, \"features\": features_array, \"locations\": dataset_train, \"labels\":labels}"
      ]
    },
    {
      "cell_type": "markdown",
      "metadata": {
        "id": "-Hb3KBS-4hS3"
      },
      "source": [
        "## Saved model feature (already mapped) as json"
      ]
    },
    {
      "cell_type": "code",
      "execution_count": null,
      "metadata": {
        "id": "gHqqNqSV4mun"
      },
      "outputs": [],
      "source": [
        "with open(feature_path, 'w') as f:\n",
        "    json.dump(data, f)"
      ]
    },
    {
      "cell_type": "markdown",
      "metadata": {
        "id": "mEKpKr-G6VAO"
      },
      "source": [
        "# Retrieval Test Stage"
      ]
    },
    {
      "cell_type": "markdown",
      "metadata": {
        "id": "JtD8TrpR7cVe"
      },
      "source": [
        "## Euclidean function"
      ]
    },
    {
      "cell_type": "code",
      "execution_count": null,
      "metadata": {
        "id": "GZq6CCE77XHA"
      },
      "outputs": [],
      "source": [
        "def euclidean(a, b):\n",
        "\t# compute and return the euclidean distance between two vectors\n",
        "\treturn np.linalg.norm(a - b)"
      ]
    },
    {
      "cell_type": "markdown",
      "metadata": {
        "id": "bac1xbma7ew-"
      },
      "source": [
        "## Perform search function\n",
        "```\n",
        "Default max result from search is 5\n",
        "```\n",
        "\n",
        "\n"
      ]
    },
    {
      "cell_type": "code",
      "execution_count": null,
      "metadata": {
        "id": "H_aMevGo7g--"
      },
      "outputs": [],
      "source": [
        "def perform_search(query_features, indexed_train, max_results=5):\n",
        "\tretrieved = []\n",
        "\tfor idx in range(0, len(indexed_train[\"features\"])):\n",
        "\t\tdistance = euclidean(query_features, indexed_train[\"features\"][idx])\n",
        "\t\tretrieved.append((distance, idx))\n",
        "\tretrieved = sorted(retrieved)[:max_results]\n",
        "\treturn retrieved"
      ]
    },
    {
      "cell_type": "markdown",
      "metadata": {
        "id": "YgnbuFOa7pi_"
      },
      "source": [
        "## Load test images"
      ]
    },
    {
      "cell_type": "code",
      "execution_count": null,
      "metadata": {
        "id": "O7JbLMvV7sCu",
        "colab": {
          "base_uri": "https://localhost:8080/"
        },
        "outputId": "e7f99ace-8887-4807-f586-099163ce2ec2"
      },
      "outputs": [
        {
          "output_type": "stream",
          "name": "stdout",
          "text": [
            "[INFO] indexing file images BreaKHis dataset...\n",
            "test len to retrieving: 613\n",
            "[INFO] load test images BreaKHis dataset...\n"
          ]
        }
      ],
      "source": [
        "print(\"[INFO] indexing file images BreaKHis dataset...\")\n",
        "# indexing file images\n",
        "dataset = []\n",
        "for class_item in class_dir:\n",
        "    cur_dir = os.path.join(base_dir, 'test', class_item)\n",
        "    for file in os.listdir(cur_dir):\n",
        "        dataset.append(os.path.join(cur_dir, file))\n",
        "print(\"test len to retrieving:\", len(dataset))\n",
        "print(\"[INFO] load test images BreaKHis dataset...\")\n",
        "#  load images\n",
        "images = []\n",
        "for image_path in dataset:\n",
        "    if \".png\" in image_path:\n",
        "        image = cv2.imread(image_path)\n",
        "        image = cv2.resize(image, IMAGE_SIZE)\n",
        "        images.append(image)"
      ]
    },
    {
      "cell_type": "markdown",
      "metadata": {
        "id": "5Top26XB71IG"
      },
      "source": [
        "## Normalization"
      ]
    },
    {
      "cell_type": "code",
      "execution_count": null,
      "metadata": {
        "id": "RzXdG9GH7v4O",
        "colab": {
          "base_uri": "https://localhost:8080/"
        },
        "outputId": "21a1f05a-2cbe-44d1-a59b-650c63111ef8"
      },
      "outputs": [
        {
          "output_type": "stream",
          "name": "stdout",
          "text": [
            "[INFO] normalization...\n"
          ]
        }
      ],
      "source": [
        "# normalization\n",
        "print(\"[INFO] normalization...\")\n",
        "test_x = np.array(images).astype(\"float32\") / 255.0"
      ]
    },
    {
      "cell_type": "markdown",
      "metadata": {
        "id": "zWU1LO2L725_"
      },
      "source": [
        "## Load the model and feature already extracted"
      ]
    },
    {
      "cell_type": "code",
      "execution_count": null,
      "metadata": {
        "id": "l0yvC_Fm8Bo_"
      },
      "outputs": [],
      "source": [
        "\n",
        "with open(feature_path) as f:\n",
        "  training_indexed = json.load(f)\n",
        "\n",
        "features_retrieved = vgg19.predict(test_x)"
      ]
    },
    {
      "cell_type": "markdown",
      "metadata": {
        "id": "VFt2q2eg8KkO"
      },
      "source": [
        "## Perform search and retrieval based test images"
      ]
    },
    {
      "cell_type": "code",
      "execution_count": null,
      "metadata": {
        "id": "SDoI3M9P8QXu",
        "colab": {
          "base_uri": "https://localhost:8080/"
        },
        "outputId": "6895092f-8aca-4c83-b89e-a541d70d53ec"
      },
      "outputs": [
        {
          "output_type": "stream",
          "name": "stderr",
          "text": [
            "/usr/local/lib/python3.7/dist-packages/sklearn/metrics/_classification.py:1318: UndefinedMetricWarning: Recall is ill-defined and being set to 0.0 in labels with no true samples. Use `zero_division` parameter to control this behavior.\n",
            "  _warn_prf(average, modifier, msg_start, len(result))\n",
            "/usr/local/lib/python3.7/dist-packages/sklearn/metrics/_classification.py:1318: UndefinedMetricWarning: Precision is ill-defined and being set to 0.0 in labels with no predicted samples. Use `zero_division` parameter to control this behavior.\n",
            "  _warn_prf(average, modifier, msg_start, len(result))\n",
            "/usr/local/lib/python3.7/dist-packages/sklearn/metrics/_classification.py:1318: UndefinedMetricWarning: Recall is ill-defined and being set to 0.0 in labels with no true samples. Use `zero_division` parameter to control this behavior.\n",
            "  _warn_prf(average, modifier, msg_start, len(result))\n",
            "/usr/local/lib/python3.7/dist-packages/sklearn/metrics/_classification.py:1318: UndefinedMetricWarning: Recall is ill-defined and being set to 0.0 in labels with no true samples. Use `zero_division` parameter to control this behavior.\n",
            "  _warn_prf(average, modifier, msg_start, len(result))\n",
            "/usr/local/lib/python3.7/dist-packages/sklearn/metrics/_classification.py:1318: UndefinedMetricWarning: Recall is ill-defined and being set to 0.0 in labels with no true samples. Use `zero_division` parameter to control this behavior.\n",
            "  _warn_prf(average, modifier, msg_start, len(result))\n",
            "/usr/local/lib/python3.7/dist-packages/sklearn/metrics/_classification.py:1318: UndefinedMetricWarning: Recall is ill-defined and being set to 0.0 in labels with no true samples. Use `zero_division` parameter to control this behavior.\n",
            "  _warn_prf(average, modifier, msg_start, len(result))\n",
            "/usr/local/lib/python3.7/dist-packages/sklearn/metrics/_classification.py:1318: UndefinedMetricWarning: Recall is ill-defined and being set to 0.0 in labels with no true samples. Use `zero_division` parameter to control this behavior.\n",
            "  _warn_prf(average, modifier, msg_start, len(result))\n",
            "/usr/local/lib/python3.7/dist-packages/sklearn/metrics/_classification.py:1318: UndefinedMetricWarning: Precision is ill-defined and being set to 0.0 in labels with no predicted samples. Use `zero_division` parameter to control this behavior.\n",
            "  _warn_prf(average, modifier, msg_start, len(result))\n",
            "/usr/local/lib/python3.7/dist-packages/sklearn/metrics/_classification.py:1318: UndefinedMetricWarning: Recall is ill-defined and being set to 0.0 in labels with no true samples. Use `zero_division` parameter to control this behavior.\n",
            "  _warn_prf(average, modifier, msg_start, len(result))\n",
            "/usr/local/lib/python3.7/dist-packages/sklearn/metrics/_classification.py:1318: UndefinedMetricWarning: Recall is ill-defined and being set to 0.0 in labels with no true samples. Use `zero_division` parameter to control this behavior.\n",
            "  _warn_prf(average, modifier, msg_start, len(result))\n",
            "/usr/local/lib/python3.7/dist-packages/sklearn/metrics/_classification.py:1318: UndefinedMetricWarning: Recall is ill-defined and being set to 0.0 in labels with no true samples. Use `zero_division` parameter to control this behavior.\n",
            "  _warn_prf(average, modifier, msg_start, len(result))\n",
            "/usr/local/lib/python3.7/dist-packages/sklearn/metrics/_classification.py:1318: UndefinedMetricWarning: Recall is ill-defined and being set to 0.0 in labels with no true samples. Use `zero_division` parameter to control this behavior.\n",
            "  _warn_prf(average, modifier, msg_start, len(result))\n",
            "/usr/local/lib/python3.7/dist-packages/sklearn/metrics/_classification.py:1318: UndefinedMetricWarning: Precision is ill-defined and being set to 0.0 in labels with no predicted samples. Use `zero_division` parameter to control this behavior.\n",
            "  _warn_prf(average, modifier, msg_start, len(result))\n",
            "/usr/local/lib/python3.7/dist-packages/sklearn/metrics/_classification.py:1318: UndefinedMetricWarning: Recall is ill-defined and being set to 0.0 in labels with no true samples. Use `zero_division` parameter to control this behavior.\n",
            "  _warn_prf(average, modifier, msg_start, len(result))\n",
            "/usr/local/lib/python3.7/dist-packages/sklearn/metrics/_classification.py:1318: UndefinedMetricWarning: Recall is ill-defined and being set to 0.0 in labels with no true samples. Use `zero_division` parameter to control this behavior.\n",
            "  _warn_prf(average, modifier, msg_start, len(result))\n",
            "/usr/local/lib/python3.7/dist-packages/sklearn/metrics/_classification.py:1318: UndefinedMetricWarning: Recall is ill-defined and being set to 0.0 in labels with no true samples. Use `zero_division` parameter to control this behavior.\n",
            "  _warn_prf(average, modifier, msg_start, len(result))\n",
            "/usr/local/lib/python3.7/dist-packages/sklearn/metrics/_classification.py:1318: UndefinedMetricWarning: Recall is ill-defined and being set to 0.0 in labels with no true samples. Use `zero_division` parameter to control this behavior.\n",
            "  _warn_prf(average, modifier, msg_start, len(result))\n",
            "/usr/local/lib/python3.7/dist-packages/sklearn/metrics/_classification.py:1318: UndefinedMetricWarning: Precision is ill-defined and being set to 0.0 in labels with no predicted samples. Use `zero_division` parameter to control this behavior.\n",
            "  _warn_prf(average, modifier, msg_start, len(result))\n",
            "/usr/local/lib/python3.7/dist-packages/sklearn/metrics/_classification.py:1318: UndefinedMetricWarning: Recall is ill-defined and being set to 0.0 in labels with no true samples. Use `zero_division` parameter to control this behavior.\n",
            "  _warn_prf(average, modifier, msg_start, len(result))\n",
            "/usr/local/lib/python3.7/dist-packages/sklearn/metrics/_classification.py:1318: UndefinedMetricWarning: Recall is ill-defined and being set to 0.0 in labels with no true samples. Use `zero_division` parameter to control this behavior.\n",
            "  _warn_prf(average, modifier, msg_start, len(result))\n",
            "/usr/local/lib/python3.7/dist-packages/sklearn/metrics/_classification.py:1318: UndefinedMetricWarning: Recall is ill-defined and being set to 0.0 in labels with no true samples. Use `zero_division` parameter to control this behavior.\n",
            "  _warn_prf(average, modifier, msg_start, len(result))\n",
            "/usr/local/lib/python3.7/dist-packages/sklearn/metrics/_classification.py:1318: UndefinedMetricWarning: Precision is ill-defined and being set to 0.0 in labels with no predicted samples. Use `zero_division` parameter to control this behavior.\n",
            "  _warn_prf(average, modifier, msg_start, len(result))\n",
            "/usr/local/lib/python3.7/dist-packages/sklearn/metrics/_classification.py:1318: UndefinedMetricWarning: Recall is ill-defined and being set to 0.0 in labels with no true samples. Use `zero_division` parameter to control this behavior.\n",
            "  _warn_prf(average, modifier, msg_start, len(result))\n",
            "/usr/local/lib/python3.7/dist-packages/sklearn/metrics/_classification.py:1318: UndefinedMetricWarning: Precision is ill-defined and being set to 0.0 in labels with no predicted samples. Use `zero_division` parameter to control this behavior.\n",
            "  _warn_prf(average, modifier, msg_start, len(result))\n",
            "/usr/local/lib/python3.7/dist-packages/sklearn/metrics/_classification.py:1318: UndefinedMetricWarning: Recall is ill-defined and being set to 0.0 in labels with no true samples. Use `zero_division` parameter to control this behavior.\n",
            "  _warn_prf(average, modifier, msg_start, len(result))\n",
            "/usr/local/lib/python3.7/dist-packages/sklearn/metrics/_classification.py:1318: UndefinedMetricWarning: Recall is ill-defined and being set to 0.0 in labels with no true samples. Use `zero_division` parameter to control this behavior.\n",
            "  _warn_prf(average, modifier, msg_start, len(result))\n",
            "/usr/local/lib/python3.7/dist-packages/sklearn/metrics/_classification.py:1318: UndefinedMetricWarning: Precision is ill-defined and being set to 0.0 in labels with no predicted samples. Use `zero_division` parameter to control this behavior.\n",
            "  _warn_prf(average, modifier, msg_start, len(result))\n",
            "/usr/local/lib/python3.7/dist-packages/sklearn/metrics/_classification.py:1318: UndefinedMetricWarning: Recall is ill-defined and being set to 0.0 in labels with no true samples. Use `zero_division` parameter to control this behavior.\n",
            "  _warn_prf(average, modifier, msg_start, len(result))\n",
            "/usr/local/lib/python3.7/dist-packages/sklearn/metrics/_classification.py:1318: UndefinedMetricWarning: Recall is ill-defined and being set to 0.0 in labels with no true samples. Use `zero_division` parameter to control this behavior.\n",
            "  _warn_prf(average, modifier, msg_start, len(result))\n",
            "/usr/local/lib/python3.7/dist-packages/sklearn/metrics/_classification.py:1318: UndefinedMetricWarning: Precision is ill-defined and being set to 0.0 in labels with no predicted samples. Use `zero_division` parameter to control this behavior.\n",
            "  _warn_prf(average, modifier, msg_start, len(result))\n",
            "/usr/local/lib/python3.7/dist-packages/sklearn/metrics/_classification.py:1318: UndefinedMetricWarning: Recall is ill-defined and being set to 0.0 in labels with no true samples. Use `zero_division` parameter to control this behavior.\n",
            "  _warn_prf(average, modifier, msg_start, len(result))\n",
            "/usr/local/lib/python3.7/dist-packages/sklearn/metrics/_classification.py:1318: UndefinedMetricWarning: Recall is ill-defined and being set to 0.0 in labels with no true samples. Use `zero_division` parameter to control this behavior.\n",
            "  _warn_prf(average, modifier, msg_start, len(result))\n",
            "/usr/local/lib/python3.7/dist-packages/sklearn/metrics/_classification.py:1318: UndefinedMetricWarning: Recall is ill-defined and being set to 0.0 in labels with no true samples. Use `zero_division` parameter to control this behavior.\n",
            "  _warn_prf(average, modifier, msg_start, len(result))\n",
            "/usr/local/lib/python3.7/dist-packages/sklearn/metrics/_classification.py:1318: UndefinedMetricWarning: Precision is ill-defined and being set to 0.0 in labels with no predicted samples. Use `zero_division` parameter to control this behavior.\n",
            "  _warn_prf(average, modifier, msg_start, len(result))\n",
            "/usr/local/lib/python3.7/dist-packages/sklearn/metrics/_classification.py:1318: UndefinedMetricWarning: Recall is ill-defined and being set to 0.0 in labels with no true samples. Use `zero_division` parameter to control this behavior.\n",
            "  _warn_prf(average, modifier, msg_start, len(result))\n",
            "/usr/local/lib/python3.7/dist-packages/sklearn/metrics/_classification.py:1318: UndefinedMetricWarning: Recall is ill-defined and being set to 0.0 in labels with no true samples. Use `zero_division` parameter to control this behavior.\n",
            "  _warn_prf(average, modifier, msg_start, len(result))\n",
            "/usr/local/lib/python3.7/dist-packages/sklearn/metrics/_classification.py:1318: UndefinedMetricWarning: Precision is ill-defined and being set to 0.0 in labels with no predicted samples. Use `zero_division` parameter to control this behavior.\n",
            "  _warn_prf(average, modifier, msg_start, len(result))\n",
            "/usr/local/lib/python3.7/dist-packages/sklearn/metrics/_classification.py:1318: UndefinedMetricWarning: Recall is ill-defined and being set to 0.0 in labels with no true samples. Use `zero_division` parameter to control this behavior.\n",
            "  _warn_prf(average, modifier, msg_start, len(result))\n",
            "/usr/local/lib/python3.7/dist-packages/sklearn/metrics/_classification.py:1318: UndefinedMetricWarning: Precision is ill-defined and being set to 0.0 in labels with no predicted samples. Use `zero_division` parameter to control this behavior.\n",
            "  _warn_prf(average, modifier, msg_start, len(result))\n",
            "/usr/local/lib/python3.7/dist-packages/sklearn/metrics/_classification.py:1318: UndefinedMetricWarning: Recall is ill-defined and being set to 0.0 in labels with no true samples. Use `zero_division` parameter to control this behavior.\n",
            "  _warn_prf(average, modifier, msg_start, len(result))\n",
            "/usr/local/lib/python3.7/dist-packages/sklearn/metrics/_classification.py:1318: UndefinedMetricWarning: Precision is ill-defined and being set to 0.0 in labels with no predicted samples. Use `zero_division` parameter to control this behavior.\n",
            "  _warn_prf(average, modifier, msg_start, len(result))\n",
            "/usr/local/lib/python3.7/dist-packages/sklearn/metrics/_classification.py:1318: UndefinedMetricWarning: Recall is ill-defined and being set to 0.0 in labels with no true samples. Use `zero_division` parameter to control this behavior.\n",
            "  _warn_prf(average, modifier, msg_start, len(result))\n",
            "/usr/local/lib/python3.7/dist-packages/sklearn/metrics/_classification.py:1318: UndefinedMetricWarning: Recall is ill-defined and being set to 0.0 in labels with no true samples. Use `zero_division` parameter to control this behavior.\n",
            "  _warn_prf(average, modifier, msg_start, len(result))\n",
            "/usr/local/lib/python3.7/dist-packages/sklearn/metrics/_classification.py:1318: UndefinedMetricWarning: Precision is ill-defined and being set to 0.0 in labels with no predicted samples. Use `zero_division` parameter to control this behavior.\n",
            "  _warn_prf(average, modifier, msg_start, len(result))\n",
            "/usr/local/lib/python3.7/dist-packages/sklearn/metrics/_classification.py:1318: UndefinedMetricWarning: Recall is ill-defined and being set to 0.0 in labels with no true samples. Use `zero_division` parameter to control this behavior.\n",
            "  _warn_prf(average, modifier, msg_start, len(result))\n",
            "/usr/local/lib/python3.7/dist-packages/sklearn/metrics/_classification.py:1318: UndefinedMetricWarning: Precision is ill-defined and being set to 0.0 in labels with no predicted samples. Use `zero_division` parameter to control this behavior.\n",
            "  _warn_prf(average, modifier, msg_start, len(result))\n",
            "/usr/local/lib/python3.7/dist-packages/sklearn/metrics/_classification.py:1318: UndefinedMetricWarning: Recall is ill-defined and being set to 0.0 in labels with no true samples. Use `zero_division` parameter to control this behavior.\n",
            "  _warn_prf(average, modifier, msg_start, len(result))\n",
            "/usr/local/lib/python3.7/dist-packages/sklearn/metrics/_classification.py:1318: UndefinedMetricWarning: Recall is ill-defined and being set to 0.0 in labels with no true samples. Use `zero_division` parameter to control this behavior.\n",
            "  _warn_prf(average, modifier, msg_start, len(result))\n",
            "/usr/local/lib/python3.7/dist-packages/sklearn/metrics/_classification.py:1318: UndefinedMetricWarning: Precision is ill-defined and being set to 0.0 in labels with no predicted samples. Use `zero_division` parameter to control this behavior.\n",
            "  _warn_prf(average, modifier, msg_start, len(result))\n",
            "/usr/local/lib/python3.7/dist-packages/sklearn/metrics/_classification.py:1318: UndefinedMetricWarning: Recall is ill-defined and being set to 0.0 in labels with no true samples. Use `zero_division` parameter to control this behavior.\n",
            "  _warn_prf(average, modifier, msg_start, len(result))\n",
            "/usr/local/lib/python3.7/dist-packages/sklearn/metrics/_classification.py:1318: UndefinedMetricWarning: Recall is ill-defined and being set to 0.0 in labels with no true samples. Use `zero_division` parameter to control this behavior.\n",
            "  _warn_prf(average, modifier, msg_start, len(result))\n",
            "/usr/local/lib/python3.7/dist-packages/sklearn/metrics/_classification.py:1318: UndefinedMetricWarning: Precision is ill-defined and being set to 0.0 in labels with no predicted samples. Use `zero_division` parameter to control this behavior.\n",
            "  _warn_prf(average, modifier, msg_start, len(result))\n",
            "/usr/local/lib/python3.7/dist-packages/sklearn/metrics/_classification.py:1318: UndefinedMetricWarning: Recall is ill-defined and being set to 0.0 in labels with no true samples. Use `zero_division` parameter to control this behavior.\n",
            "  _warn_prf(average, modifier, msg_start, len(result))\n",
            "/usr/local/lib/python3.7/dist-packages/sklearn/metrics/_classification.py:1318: UndefinedMetricWarning: Recall is ill-defined and being set to 0.0 in labels with no true samples. Use `zero_division` parameter to control this behavior.\n",
            "  _warn_prf(average, modifier, msg_start, len(result))\n",
            "/usr/local/lib/python3.7/dist-packages/sklearn/metrics/_classification.py:1318: UndefinedMetricWarning: Precision is ill-defined and being set to 0.0 in labels with no predicted samples. Use `zero_division` parameter to control this behavior.\n",
            "  _warn_prf(average, modifier, msg_start, len(result))\n",
            "/usr/local/lib/python3.7/dist-packages/sklearn/metrics/_classification.py:1318: UndefinedMetricWarning: Recall is ill-defined and being set to 0.0 in labels with no true samples. Use `zero_division` parameter to control this behavior.\n",
            "  _warn_prf(average, modifier, msg_start, len(result))\n",
            "/usr/local/lib/python3.7/dist-packages/sklearn/metrics/_classification.py:1318: UndefinedMetricWarning: Recall is ill-defined and being set to 0.0 in labels with no true samples. Use `zero_division` parameter to control this behavior.\n",
            "  _warn_prf(average, modifier, msg_start, len(result))\n",
            "/usr/local/lib/python3.7/dist-packages/sklearn/metrics/_classification.py:1318: UndefinedMetricWarning: Recall is ill-defined and being set to 0.0 in labels with no true samples. Use `zero_division` parameter to control this behavior.\n",
            "  _warn_prf(average, modifier, msg_start, len(result))\n",
            "/usr/local/lib/python3.7/dist-packages/sklearn/metrics/_classification.py:1318: UndefinedMetricWarning: Recall is ill-defined and being set to 0.0 in labels with no true samples. Use `zero_division` parameter to control this behavior.\n",
            "  _warn_prf(average, modifier, msg_start, len(result))\n",
            "/usr/local/lib/python3.7/dist-packages/sklearn/metrics/_classification.py:1318: UndefinedMetricWarning: Precision is ill-defined and being set to 0.0 in labels with no predicted samples. Use `zero_division` parameter to control this behavior.\n",
            "  _warn_prf(average, modifier, msg_start, len(result))\n",
            "/usr/local/lib/python3.7/dist-packages/sklearn/metrics/_classification.py:1318: UndefinedMetricWarning: Recall is ill-defined and being set to 0.0 in labels with no true samples. Use `zero_division` parameter to control this behavior.\n",
            "  _warn_prf(average, modifier, msg_start, len(result))\n",
            "/usr/local/lib/python3.7/dist-packages/sklearn/metrics/_classification.py:1318: UndefinedMetricWarning: Recall is ill-defined and being set to 0.0 in labels with no true samples. Use `zero_division` parameter to control this behavior.\n",
            "  _warn_prf(average, modifier, msg_start, len(result))\n",
            "/usr/local/lib/python3.7/dist-packages/sklearn/metrics/_classification.py:1318: UndefinedMetricWarning: Recall is ill-defined and being set to 0.0 in labels with no true samples. Use `zero_division` parameter to control this behavior.\n",
            "  _warn_prf(average, modifier, msg_start, len(result))\n",
            "/usr/local/lib/python3.7/dist-packages/sklearn/metrics/_classification.py:1318: UndefinedMetricWarning: Precision is ill-defined and being set to 0.0 in labels with no predicted samples. Use `zero_division` parameter to control this behavior.\n",
            "  _warn_prf(average, modifier, msg_start, len(result))\n",
            "/usr/local/lib/python3.7/dist-packages/sklearn/metrics/_classification.py:1318: UndefinedMetricWarning: Recall is ill-defined and being set to 0.0 in labels with no true samples. Use `zero_division` parameter to control this behavior.\n",
            "  _warn_prf(average, modifier, msg_start, len(result))\n",
            "/usr/local/lib/python3.7/dist-packages/sklearn/metrics/_classification.py:1318: UndefinedMetricWarning: Precision is ill-defined and being set to 0.0 in labels with no predicted samples. Use `zero_division` parameter to control this behavior.\n",
            "  _warn_prf(average, modifier, msg_start, len(result))\n",
            "/usr/local/lib/python3.7/dist-packages/sklearn/metrics/_classification.py:1318: UndefinedMetricWarning: Recall is ill-defined and being set to 0.0 in labels with no true samples. Use `zero_division` parameter to control this behavior.\n",
            "  _warn_prf(average, modifier, msg_start, len(result))\n",
            "/usr/local/lib/python3.7/dist-packages/sklearn/metrics/_classification.py:1318: UndefinedMetricWarning: Precision is ill-defined and being set to 0.0 in labels with no predicted samples. Use `zero_division` parameter to control this behavior.\n",
            "  _warn_prf(average, modifier, msg_start, len(result))\n",
            "/usr/local/lib/python3.7/dist-packages/sklearn/metrics/_classification.py:1318: UndefinedMetricWarning: Recall is ill-defined and being set to 0.0 in labels with no true samples. Use `zero_division` parameter to control this behavior.\n",
            "  _warn_prf(average, modifier, msg_start, len(result))\n",
            "/usr/local/lib/python3.7/dist-packages/sklearn/metrics/_classification.py:1318: UndefinedMetricWarning: Recall is ill-defined and being set to 0.0 in labels with no true samples. Use `zero_division` parameter to control this behavior.\n",
            "  _warn_prf(average, modifier, msg_start, len(result))\n",
            "/usr/local/lib/python3.7/dist-packages/sklearn/metrics/_classification.py:1318: UndefinedMetricWarning: Precision is ill-defined and being set to 0.0 in labels with no predicted samples. Use `zero_division` parameter to control this behavior.\n",
            "  _warn_prf(average, modifier, msg_start, len(result))\n",
            "/usr/local/lib/python3.7/dist-packages/sklearn/metrics/_classification.py:1318: UndefinedMetricWarning: Recall is ill-defined and being set to 0.0 in labels with no true samples. Use `zero_division` parameter to control this behavior.\n",
            "  _warn_prf(average, modifier, msg_start, len(result))\n",
            "/usr/local/lib/python3.7/dist-packages/sklearn/metrics/_classification.py:1318: UndefinedMetricWarning: Recall is ill-defined and being set to 0.0 in labels with no true samples. Use `zero_division` parameter to control this behavior.\n",
            "  _warn_prf(average, modifier, msg_start, len(result))\n",
            "/usr/local/lib/python3.7/dist-packages/sklearn/metrics/_classification.py:1318: UndefinedMetricWarning: Recall is ill-defined and being set to 0.0 in labels with no true samples. Use `zero_division` parameter to control this behavior.\n",
            "  _warn_prf(average, modifier, msg_start, len(result))\n",
            "/usr/local/lib/python3.7/dist-packages/sklearn/metrics/_classification.py:1318: UndefinedMetricWarning: Recall is ill-defined and being set to 0.0 in labels with no true samples. Use `zero_division` parameter to control this behavior.\n",
            "  _warn_prf(average, modifier, msg_start, len(result))\n",
            "/usr/local/lib/python3.7/dist-packages/sklearn/metrics/_classification.py:1318: UndefinedMetricWarning: Recall is ill-defined and being set to 0.0 in labels with no true samples. Use `zero_division` parameter to control this behavior.\n",
            "  _warn_prf(average, modifier, msg_start, len(result))\n",
            "/usr/local/lib/python3.7/dist-packages/sklearn/metrics/_classification.py:1318: UndefinedMetricWarning: Precision is ill-defined and being set to 0.0 in labels with no predicted samples. Use `zero_division` parameter to control this behavior.\n",
            "  _warn_prf(average, modifier, msg_start, len(result))\n",
            "/usr/local/lib/python3.7/dist-packages/sklearn/metrics/_classification.py:1318: UndefinedMetricWarning: Recall is ill-defined and being set to 0.0 in labels with no true samples. Use `zero_division` parameter to control this behavior.\n",
            "  _warn_prf(average, modifier, msg_start, len(result))\n",
            "/usr/local/lib/python3.7/dist-packages/sklearn/metrics/_classification.py:1318: UndefinedMetricWarning: Precision is ill-defined and being set to 0.0 in labels with no predicted samples. Use `zero_division` parameter to control this behavior.\n",
            "  _warn_prf(average, modifier, msg_start, len(result))\n",
            "/usr/local/lib/python3.7/dist-packages/sklearn/metrics/_classification.py:1318: UndefinedMetricWarning: Recall is ill-defined and being set to 0.0 in labels with no true samples. Use `zero_division` parameter to control this behavior.\n",
            "  _warn_prf(average, modifier, msg_start, len(result))\n",
            "/usr/local/lib/python3.7/dist-packages/sklearn/metrics/_classification.py:1318: UndefinedMetricWarning: Recall is ill-defined and being set to 0.0 in labels with no true samples. Use `zero_division` parameter to control this behavior.\n",
            "  _warn_prf(average, modifier, msg_start, len(result))\n",
            "/usr/local/lib/python3.7/dist-packages/sklearn/metrics/_classification.py:1318: UndefinedMetricWarning: Precision is ill-defined and being set to 0.0 in labels with no predicted samples. Use `zero_division` parameter to control this behavior.\n",
            "  _warn_prf(average, modifier, msg_start, len(result))\n",
            "/usr/local/lib/python3.7/dist-packages/sklearn/metrics/_classification.py:1318: UndefinedMetricWarning: Recall is ill-defined and being set to 0.0 in labels with no true samples. Use `zero_division` parameter to control this behavior.\n",
            "  _warn_prf(average, modifier, msg_start, len(result))\n",
            "/usr/local/lib/python3.7/dist-packages/sklearn/metrics/_classification.py:1318: UndefinedMetricWarning: Recall is ill-defined and being set to 0.0 in labels with no true samples. Use `zero_division` parameter to control this behavior.\n",
            "  _warn_prf(average, modifier, msg_start, len(result))\n",
            "/usr/local/lib/python3.7/dist-packages/sklearn/metrics/_classification.py:1318: UndefinedMetricWarning: Precision is ill-defined and being set to 0.0 in labels with no predicted samples. Use `zero_division` parameter to control this behavior.\n",
            "  _warn_prf(average, modifier, msg_start, len(result))\n",
            "/usr/local/lib/python3.7/dist-packages/sklearn/metrics/_classification.py:1318: UndefinedMetricWarning: Recall is ill-defined and being set to 0.0 in labels with no true samples. Use `zero_division` parameter to control this behavior.\n",
            "  _warn_prf(average, modifier, msg_start, len(result))\n",
            "/usr/local/lib/python3.7/dist-packages/sklearn/metrics/_classification.py:1318: UndefinedMetricWarning: Precision is ill-defined and being set to 0.0 in labels with no predicted samples. Use `zero_division` parameter to control this behavior.\n",
            "  _warn_prf(average, modifier, msg_start, len(result))\n",
            "/usr/local/lib/python3.7/dist-packages/sklearn/metrics/_classification.py:1318: UndefinedMetricWarning: Recall is ill-defined and being set to 0.0 in labels with no true samples. Use `zero_division` parameter to control this behavior.\n",
            "  _warn_prf(average, modifier, msg_start, len(result))\n",
            "/usr/local/lib/python3.7/dist-packages/sklearn/metrics/_classification.py:1318: UndefinedMetricWarning: Precision is ill-defined and being set to 0.0 in labels with no predicted samples. Use `zero_division` parameter to control this behavior.\n",
            "  _warn_prf(average, modifier, msg_start, len(result))\n",
            "/usr/local/lib/python3.7/dist-packages/sklearn/metrics/_classification.py:1318: UndefinedMetricWarning: Recall is ill-defined and being set to 0.0 in labels with no true samples. Use `zero_division` parameter to control this behavior.\n",
            "  _warn_prf(average, modifier, msg_start, len(result))\n",
            "/usr/local/lib/python3.7/dist-packages/sklearn/metrics/_classification.py:1318: UndefinedMetricWarning: Precision is ill-defined and being set to 0.0 in labels with no predicted samples. Use `zero_division` parameter to control this behavior.\n",
            "  _warn_prf(average, modifier, msg_start, len(result))\n",
            "/usr/local/lib/python3.7/dist-packages/sklearn/metrics/_classification.py:1318: UndefinedMetricWarning: Recall is ill-defined and being set to 0.0 in labels with no true samples. Use `zero_division` parameter to control this behavior.\n",
            "  _warn_prf(average, modifier, msg_start, len(result))\n",
            "/usr/local/lib/python3.7/dist-packages/sklearn/metrics/_classification.py:1318: UndefinedMetricWarning: Recall is ill-defined and being set to 0.0 in labels with no true samples. Use `zero_division` parameter to control this behavior.\n",
            "  _warn_prf(average, modifier, msg_start, len(result))\n",
            "/usr/local/lib/python3.7/dist-packages/sklearn/metrics/_classification.py:1318: UndefinedMetricWarning: Recall is ill-defined and being set to 0.0 in labels with no true samples. Use `zero_division` parameter to control this behavior.\n",
            "  _warn_prf(average, modifier, msg_start, len(result))\n",
            "/usr/local/lib/python3.7/dist-packages/sklearn/metrics/_classification.py:1318: UndefinedMetricWarning: Precision is ill-defined and being set to 0.0 in labels with no predicted samples. Use `zero_division` parameter to control this behavior.\n",
            "  _warn_prf(average, modifier, msg_start, len(result))\n",
            "/usr/local/lib/python3.7/dist-packages/sklearn/metrics/_classification.py:1318: UndefinedMetricWarning: Recall is ill-defined and being set to 0.0 in labels with no true samples. Use `zero_division` parameter to control this behavior.\n",
            "  _warn_prf(average, modifier, msg_start, len(result))\n",
            "/usr/local/lib/python3.7/dist-packages/sklearn/metrics/_classification.py:1318: UndefinedMetricWarning: Recall is ill-defined and being set to 0.0 in labels with no true samples. Use `zero_division` parameter to control this behavior.\n",
            "  _warn_prf(average, modifier, msg_start, len(result))\n",
            "/usr/local/lib/python3.7/dist-packages/sklearn/metrics/_classification.py:1318: UndefinedMetricWarning: Precision is ill-defined and being set to 0.0 in labels with no predicted samples. Use `zero_division` parameter to control this behavior.\n",
            "  _warn_prf(average, modifier, msg_start, len(result))\n",
            "/usr/local/lib/python3.7/dist-packages/sklearn/metrics/_classification.py:1318: UndefinedMetricWarning: Recall is ill-defined and being set to 0.0 in labels with no true samples. Use `zero_division` parameter to control this behavior.\n",
            "  _warn_prf(average, modifier, msg_start, len(result))\n",
            "/usr/local/lib/python3.7/dist-packages/sklearn/metrics/_classification.py:1318: UndefinedMetricWarning: Recall is ill-defined and being set to 0.0 in labels with no true samples. Use `zero_division` parameter to control this behavior.\n",
            "  _warn_prf(average, modifier, msg_start, len(result))\n",
            "/usr/local/lib/python3.7/dist-packages/sklearn/metrics/_classification.py:1318: UndefinedMetricWarning: Recall is ill-defined and being set to 0.0 in labels with no true samples. Use `zero_division` parameter to control this behavior.\n",
            "  _warn_prf(average, modifier, msg_start, len(result))\n",
            "/usr/local/lib/python3.7/dist-packages/sklearn/metrics/_classification.py:1318: UndefinedMetricWarning: Precision is ill-defined and being set to 0.0 in labels with no predicted samples. Use `zero_division` parameter to control this behavior.\n",
            "  _warn_prf(average, modifier, msg_start, len(result))\n",
            "/usr/local/lib/python3.7/dist-packages/sklearn/metrics/_classification.py:1318: UndefinedMetricWarning: Recall is ill-defined and being set to 0.0 in labels with no true samples. Use `zero_division` parameter to control this behavior.\n",
            "  _warn_prf(average, modifier, msg_start, len(result))\n",
            "/usr/local/lib/python3.7/dist-packages/sklearn/metrics/_classification.py:1318: UndefinedMetricWarning: Precision is ill-defined and being set to 0.0 in labels with no predicted samples. Use `zero_division` parameter to control this behavior.\n",
            "  _warn_prf(average, modifier, msg_start, len(result))\n",
            "/usr/local/lib/python3.7/dist-packages/sklearn/metrics/_classification.py:1318: UndefinedMetricWarning: Recall is ill-defined and being set to 0.0 in labels with no true samples. Use `zero_division` parameter to control this behavior.\n",
            "  _warn_prf(average, modifier, msg_start, len(result))\n",
            "/usr/local/lib/python3.7/dist-packages/sklearn/metrics/_classification.py:1318: UndefinedMetricWarning: Recall is ill-defined and being set to 0.0 in labels with no true samples. Use `zero_division` parameter to control this behavior.\n",
            "  _warn_prf(average, modifier, msg_start, len(result))\n",
            "/usr/local/lib/python3.7/dist-packages/sklearn/metrics/_classification.py:1318: UndefinedMetricWarning: Precision is ill-defined and being set to 0.0 in labels with no predicted samples. Use `zero_division` parameter to control this behavior.\n",
            "  _warn_prf(average, modifier, msg_start, len(result))\n",
            "/usr/local/lib/python3.7/dist-packages/sklearn/metrics/_classification.py:1318: UndefinedMetricWarning: Recall is ill-defined and being set to 0.0 in labels with no true samples. Use `zero_division` parameter to control this behavior.\n",
            "  _warn_prf(average, modifier, msg_start, len(result))\n",
            "/usr/local/lib/python3.7/dist-packages/sklearn/metrics/_classification.py:1318: UndefinedMetricWarning: Recall is ill-defined and being set to 0.0 in labels with no true samples. Use `zero_division` parameter to control this behavior.\n",
            "  _warn_prf(average, modifier, msg_start, len(result))\n",
            "/usr/local/lib/python3.7/dist-packages/sklearn/metrics/_classification.py:1318: UndefinedMetricWarning: Precision is ill-defined and being set to 0.0 in labels with no predicted samples. Use `zero_division` parameter to control this behavior.\n",
            "  _warn_prf(average, modifier, msg_start, len(result))\n",
            "/usr/local/lib/python3.7/dist-packages/sklearn/metrics/_classification.py:1318: UndefinedMetricWarning: Recall is ill-defined and being set to 0.0 in labels with no true samples. Use `zero_division` parameter to control this behavior.\n",
            "  _warn_prf(average, modifier, msg_start, len(result))\n",
            "/usr/local/lib/python3.7/dist-packages/sklearn/metrics/_classification.py:1318: UndefinedMetricWarning: Recall is ill-defined and being set to 0.0 in labels with no true samples. Use `zero_division` parameter to control this behavior.\n",
            "  _warn_prf(average, modifier, msg_start, len(result))\n",
            "/usr/local/lib/python3.7/dist-packages/sklearn/metrics/_classification.py:1318: UndefinedMetricWarning: Precision is ill-defined and being set to 0.0 in labels with no predicted samples. Use `zero_division` parameter to control this behavior.\n",
            "  _warn_prf(average, modifier, msg_start, len(result))\n",
            "/usr/local/lib/python3.7/dist-packages/sklearn/metrics/_classification.py:1318: UndefinedMetricWarning: Recall is ill-defined and being set to 0.0 in labels with no true samples. Use `zero_division` parameter to control this behavior.\n",
            "  _warn_prf(average, modifier, msg_start, len(result))\n",
            "/usr/local/lib/python3.7/dist-packages/sklearn/metrics/_classification.py:1318: UndefinedMetricWarning: Recall is ill-defined and being set to 0.0 in labels with no true samples. Use `zero_division` parameter to control this behavior.\n",
            "  _warn_prf(average, modifier, msg_start, len(result))\n",
            "/usr/local/lib/python3.7/dist-packages/sklearn/metrics/_classification.py:1318: UndefinedMetricWarning: Precision is ill-defined and being set to 0.0 in labels with no predicted samples. Use `zero_division` parameter to control this behavior.\n",
            "  _warn_prf(average, modifier, msg_start, len(result))\n",
            "/usr/local/lib/python3.7/dist-packages/sklearn/metrics/_classification.py:1318: UndefinedMetricWarning: Recall is ill-defined and being set to 0.0 in labels with no true samples. Use `zero_division` parameter to control this behavior.\n",
            "  _warn_prf(average, modifier, msg_start, len(result))\n",
            "/usr/local/lib/python3.7/dist-packages/sklearn/metrics/_classification.py:1318: UndefinedMetricWarning: Recall is ill-defined and being set to 0.0 in labels with no true samples. Use `zero_division` parameter to control this behavior.\n",
            "  _warn_prf(average, modifier, msg_start, len(result))\n",
            "/usr/local/lib/python3.7/dist-packages/sklearn/metrics/_classification.py:1318: UndefinedMetricWarning: Recall is ill-defined and being set to 0.0 in labels with no true samples. Use `zero_division` parameter to control this behavior.\n",
            "  _warn_prf(average, modifier, msg_start, len(result))\n",
            "/usr/local/lib/python3.7/dist-packages/sklearn/metrics/_classification.py:1318: UndefinedMetricWarning: Recall is ill-defined and being set to 0.0 in labels with no true samples. Use `zero_division` parameter to control this behavior.\n",
            "  _warn_prf(average, modifier, msg_start, len(result))\n",
            "/usr/local/lib/python3.7/dist-packages/sklearn/metrics/_classification.py:1318: UndefinedMetricWarning: Precision is ill-defined and being set to 0.0 in labels with no predicted samples. Use `zero_division` parameter to control this behavior.\n",
            "  _warn_prf(average, modifier, msg_start, len(result))\n",
            "/usr/local/lib/python3.7/dist-packages/sklearn/metrics/_classification.py:1318: UndefinedMetricWarning: Recall is ill-defined and being set to 0.0 in labels with no true samples. Use `zero_division` parameter to control this behavior.\n",
            "  _warn_prf(average, modifier, msg_start, len(result))\n",
            "/usr/local/lib/python3.7/dist-packages/sklearn/metrics/_classification.py:1318: UndefinedMetricWarning: Recall is ill-defined and being set to 0.0 in labels with no true samples. Use `zero_division` parameter to control this behavior.\n",
            "  _warn_prf(average, modifier, msg_start, len(result))\n",
            "/usr/local/lib/python3.7/dist-packages/sklearn/metrics/_classification.py:1318: UndefinedMetricWarning: Precision is ill-defined and being set to 0.0 in labels with no predicted samples. Use `zero_division` parameter to control this behavior.\n",
            "  _warn_prf(average, modifier, msg_start, len(result))\n",
            "/usr/local/lib/python3.7/dist-packages/sklearn/metrics/_classification.py:1318: UndefinedMetricWarning: Recall is ill-defined and being set to 0.0 in labels with no true samples. Use `zero_division` parameter to control this behavior.\n",
            "  _warn_prf(average, modifier, msg_start, len(result))\n",
            "/usr/local/lib/python3.7/dist-packages/sklearn/metrics/_classification.py:1318: UndefinedMetricWarning: Recall is ill-defined and being set to 0.0 in labels with no true samples. Use `zero_division` parameter to control this behavior.\n",
            "  _warn_prf(average, modifier, msg_start, len(result))\n",
            "/usr/local/lib/python3.7/dist-packages/sklearn/metrics/_classification.py:1318: UndefinedMetricWarning: Recall is ill-defined and being set to 0.0 in labels with no true samples. Use `zero_division` parameter to control this behavior.\n",
            "  _warn_prf(average, modifier, msg_start, len(result))\n",
            "/usr/local/lib/python3.7/dist-packages/sklearn/metrics/_classification.py:1318: UndefinedMetricWarning: Recall is ill-defined and being set to 0.0 in labels with no true samples. Use `zero_division` parameter to control this behavior.\n",
            "  _warn_prf(average, modifier, msg_start, len(result))\n",
            "/usr/local/lib/python3.7/dist-packages/sklearn/metrics/_classification.py:1318: UndefinedMetricWarning: Recall is ill-defined and being set to 0.0 in labels with no true samples. Use `zero_division` parameter to control this behavior.\n",
            "  _warn_prf(average, modifier, msg_start, len(result))\n",
            "/usr/local/lib/python3.7/dist-packages/sklearn/metrics/_classification.py:1318: UndefinedMetricWarning: Precision is ill-defined and being set to 0.0 in labels with no predicted samples. Use `zero_division` parameter to control this behavior.\n",
            "  _warn_prf(average, modifier, msg_start, len(result))\n",
            "/usr/local/lib/python3.7/dist-packages/sklearn/metrics/_classification.py:1318: UndefinedMetricWarning: Recall is ill-defined and being set to 0.0 in labels with no true samples. Use `zero_division` parameter to control this behavior.\n",
            "  _warn_prf(average, modifier, msg_start, len(result))\n",
            "/usr/local/lib/python3.7/dist-packages/sklearn/metrics/_classification.py:1318: UndefinedMetricWarning: Recall is ill-defined and being set to 0.0 in labels with no true samples. Use `zero_division` parameter to control this behavior.\n",
            "  _warn_prf(average, modifier, msg_start, len(result))\n",
            "/usr/local/lib/python3.7/dist-packages/sklearn/metrics/_classification.py:1318: UndefinedMetricWarning: Recall is ill-defined and being set to 0.0 in labels with no true samples. Use `zero_division` parameter to control this behavior.\n",
            "  _warn_prf(average, modifier, msg_start, len(result))\n",
            "/usr/local/lib/python3.7/dist-packages/sklearn/metrics/_classification.py:1318: UndefinedMetricWarning: Recall is ill-defined and being set to 0.0 in labels with no true samples. Use `zero_division` parameter to control this behavior.\n",
            "  _warn_prf(average, modifier, msg_start, len(result))\n",
            "/usr/local/lib/python3.7/dist-packages/sklearn/metrics/_classification.py:1318: UndefinedMetricWarning: Precision is ill-defined and being set to 0.0 in labels with no predicted samples. Use `zero_division` parameter to control this behavior.\n",
            "  _warn_prf(average, modifier, msg_start, len(result))\n",
            "/usr/local/lib/python3.7/dist-packages/sklearn/metrics/_classification.py:1318: UndefinedMetricWarning: Recall is ill-defined and being set to 0.0 in labels with no true samples. Use `zero_division` parameter to control this behavior.\n",
            "  _warn_prf(average, modifier, msg_start, len(result))\n",
            "/usr/local/lib/python3.7/dist-packages/sklearn/metrics/_classification.py:1318: UndefinedMetricWarning: Recall is ill-defined and being set to 0.0 in labels with no true samples. Use `zero_division` parameter to control this behavior.\n",
            "  _warn_prf(average, modifier, msg_start, len(result))\n",
            "/usr/local/lib/python3.7/dist-packages/sklearn/metrics/_classification.py:1318: UndefinedMetricWarning: Precision is ill-defined and being set to 0.0 in labels with no predicted samples. Use `zero_division` parameter to control this behavior.\n",
            "  _warn_prf(average, modifier, msg_start, len(result))\n",
            "/usr/local/lib/python3.7/dist-packages/sklearn/metrics/_classification.py:1318: UndefinedMetricWarning: Recall is ill-defined and being set to 0.0 in labels with no true samples. Use `zero_division` parameter to control this behavior.\n",
            "  _warn_prf(average, modifier, msg_start, len(result))\n",
            "/usr/local/lib/python3.7/dist-packages/sklearn/metrics/_classification.py:1318: UndefinedMetricWarning: Precision is ill-defined and being set to 0.0 in labels with no predicted samples. Use `zero_division` parameter to control this behavior.\n",
            "  _warn_prf(average, modifier, msg_start, len(result))\n",
            "/usr/local/lib/python3.7/dist-packages/sklearn/metrics/_classification.py:1318: UndefinedMetricWarning: Recall is ill-defined and being set to 0.0 in labels with no true samples. Use `zero_division` parameter to control this behavior.\n",
            "  _warn_prf(average, modifier, msg_start, len(result))\n",
            "/usr/local/lib/python3.7/dist-packages/sklearn/metrics/_classification.py:1318: UndefinedMetricWarning: Recall is ill-defined and being set to 0.0 in labels with no true samples. Use `zero_division` parameter to control this behavior.\n",
            "  _warn_prf(average, modifier, msg_start, len(result))\n",
            "/usr/local/lib/python3.7/dist-packages/sklearn/metrics/_classification.py:1318: UndefinedMetricWarning: Precision is ill-defined and being set to 0.0 in labels with no predicted samples. Use `zero_division` parameter to control this behavior.\n",
            "  _warn_prf(average, modifier, msg_start, len(result))\n",
            "/usr/local/lib/python3.7/dist-packages/sklearn/metrics/_classification.py:1318: UndefinedMetricWarning: Recall is ill-defined and being set to 0.0 in labels with no true samples. Use `zero_division` parameter to control this behavior.\n",
            "  _warn_prf(average, modifier, msg_start, len(result))\n",
            "/usr/local/lib/python3.7/dist-packages/sklearn/metrics/_classification.py:1318: UndefinedMetricWarning: Precision is ill-defined and being set to 0.0 in labels with no predicted samples. Use `zero_division` parameter to control this behavior.\n",
            "  _warn_prf(average, modifier, msg_start, len(result))\n",
            "/usr/local/lib/python3.7/dist-packages/sklearn/metrics/_classification.py:1318: UndefinedMetricWarning: Recall is ill-defined and being set to 0.0 in labels with no true samples. Use `zero_division` parameter to control this behavior.\n",
            "  _warn_prf(average, modifier, msg_start, len(result))\n",
            "/usr/local/lib/python3.7/dist-packages/sklearn/metrics/_classification.py:1318: UndefinedMetricWarning: Recall is ill-defined and being set to 0.0 in labels with no true samples. Use `zero_division` parameter to control this behavior.\n",
            "  _warn_prf(average, modifier, msg_start, len(result))\n",
            "/usr/local/lib/python3.7/dist-packages/sklearn/metrics/_classification.py:1318: UndefinedMetricWarning: Precision is ill-defined and being set to 0.0 in labels with no predicted samples. Use `zero_division` parameter to control this behavior.\n",
            "  _warn_prf(average, modifier, msg_start, len(result))\n",
            "/usr/local/lib/python3.7/dist-packages/sklearn/metrics/_classification.py:1318: UndefinedMetricWarning: Recall is ill-defined and being set to 0.0 in labels with no true samples. Use `zero_division` parameter to control this behavior.\n",
            "  _warn_prf(average, modifier, msg_start, len(result))\n",
            "/usr/local/lib/python3.7/dist-packages/sklearn/metrics/_classification.py:1318: UndefinedMetricWarning: Recall is ill-defined and being set to 0.0 in labels with no true samples. Use `zero_division` parameter to control this behavior.\n",
            "  _warn_prf(average, modifier, msg_start, len(result))\n",
            "/usr/local/lib/python3.7/dist-packages/sklearn/metrics/_classification.py:1318: UndefinedMetricWarning: Recall is ill-defined and being set to 0.0 in labels with no true samples. Use `zero_division` parameter to control this behavior.\n",
            "  _warn_prf(average, modifier, msg_start, len(result))\n",
            "/usr/local/lib/python3.7/dist-packages/sklearn/metrics/_classification.py:1318: UndefinedMetricWarning: Recall is ill-defined and being set to 0.0 in labels with no true samples. Use `zero_division` parameter to control this behavior.\n",
            "  _warn_prf(average, modifier, msg_start, len(result))\n",
            "/usr/local/lib/python3.7/dist-packages/sklearn/metrics/_classification.py:1318: UndefinedMetricWarning: Recall is ill-defined and being set to 0.0 in labels with no true samples. Use `zero_division` parameter to control this behavior.\n",
            "  _warn_prf(average, modifier, msg_start, len(result))\n",
            "/usr/local/lib/python3.7/dist-packages/sklearn/metrics/_classification.py:1318: UndefinedMetricWarning: Recall is ill-defined and being set to 0.0 in labels with no true samples. Use `zero_division` parameter to control this behavior.\n",
            "  _warn_prf(average, modifier, msg_start, len(result))\n",
            "/usr/local/lib/python3.7/dist-packages/sklearn/metrics/_classification.py:1318: UndefinedMetricWarning: Recall is ill-defined and being set to 0.0 in labels with no true samples. Use `zero_division` parameter to control this behavior.\n",
            "  _warn_prf(average, modifier, msg_start, len(result))\n",
            "/usr/local/lib/python3.7/dist-packages/sklearn/metrics/_classification.py:1318: UndefinedMetricWarning: Recall is ill-defined and being set to 0.0 in labels with no true samples. Use `zero_division` parameter to control this behavior.\n",
            "  _warn_prf(average, modifier, msg_start, len(result))\n",
            "/usr/local/lib/python3.7/dist-packages/sklearn/metrics/_classification.py:1318: UndefinedMetricWarning: Recall is ill-defined and being set to 0.0 in labels with no true samples. Use `zero_division` parameter to control this behavior.\n",
            "  _warn_prf(average, modifier, msg_start, len(result))\n",
            "/usr/local/lib/python3.7/dist-packages/sklearn/metrics/_classification.py:1318: UndefinedMetricWarning: Precision is ill-defined and being set to 0.0 in labels with no predicted samples. Use `zero_division` parameter to control this behavior.\n",
            "  _warn_prf(average, modifier, msg_start, len(result))\n",
            "/usr/local/lib/python3.7/dist-packages/sklearn/metrics/_classification.py:1318: UndefinedMetricWarning: Recall is ill-defined and being set to 0.0 in labels with no true samples. Use `zero_division` parameter to control this behavior.\n",
            "  _warn_prf(average, modifier, msg_start, len(result))\n",
            "/usr/local/lib/python3.7/dist-packages/sklearn/metrics/_classification.py:1318: UndefinedMetricWarning: Recall is ill-defined and being set to 0.0 in labels with no true samples. Use `zero_division` parameter to control this behavior.\n",
            "  _warn_prf(average, modifier, msg_start, len(result))\n",
            "/usr/local/lib/python3.7/dist-packages/sklearn/metrics/_classification.py:1318: UndefinedMetricWarning: Precision is ill-defined and being set to 0.0 in labels with no predicted samples. Use `zero_division` parameter to control this behavior.\n",
            "  _warn_prf(average, modifier, msg_start, len(result))\n",
            "/usr/local/lib/python3.7/dist-packages/sklearn/metrics/_classification.py:1318: UndefinedMetricWarning: Recall is ill-defined and being set to 0.0 in labels with no true samples. Use `zero_division` parameter to control this behavior.\n",
            "  _warn_prf(average, modifier, msg_start, len(result))\n",
            "/usr/local/lib/python3.7/dist-packages/sklearn/metrics/_classification.py:1318: UndefinedMetricWarning: Recall is ill-defined and being set to 0.0 in labels with no true samples. Use `zero_division` parameter to control this behavior.\n",
            "  _warn_prf(average, modifier, msg_start, len(result))\n",
            "/usr/local/lib/python3.7/dist-packages/sklearn/metrics/_classification.py:1318: UndefinedMetricWarning: Precision is ill-defined and being set to 0.0 in labels with no predicted samples. Use `zero_division` parameter to control this behavior.\n",
            "  _warn_prf(average, modifier, msg_start, len(result))\n",
            "/usr/local/lib/python3.7/dist-packages/sklearn/metrics/_classification.py:1318: UndefinedMetricWarning: Recall is ill-defined and being set to 0.0 in labels with no true samples. Use `zero_division` parameter to control this behavior.\n",
            "  _warn_prf(average, modifier, msg_start, len(result))\n",
            "/usr/local/lib/python3.7/dist-packages/sklearn/metrics/_classification.py:1318: UndefinedMetricWarning: Precision is ill-defined and being set to 0.0 in labels with no predicted samples. Use `zero_division` parameter to control this behavior.\n",
            "  _warn_prf(average, modifier, msg_start, len(result))\n",
            "/usr/local/lib/python3.7/dist-packages/sklearn/metrics/_classification.py:1318: UndefinedMetricWarning: Recall is ill-defined and being set to 0.0 in labels with no true samples. Use `zero_division` parameter to control this behavior.\n",
            "  _warn_prf(average, modifier, msg_start, len(result))\n",
            "/usr/local/lib/python3.7/dist-packages/sklearn/metrics/_classification.py:1318: UndefinedMetricWarning: Precision is ill-defined and being set to 0.0 in labels with no predicted samples. Use `zero_division` parameter to control this behavior.\n",
            "  _warn_prf(average, modifier, msg_start, len(result))\n",
            "/usr/local/lib/python3.7/dist-packages/sklearn/metrics/_classification.py:1318: UndefinedMetricWarning: Recall is ill-defined and being set to 0.0 in labels with no true samples. Use `zero_division` parameter to control this behavior.\n",
            "  _warn_prf(average, modifier, msg_start, len(result))\n",
            "/usr/local/lib/python3.7/dist-packages/sklearn/metrics/_classification.py:1318: UndefinedMetricWarning: Recall is ill-defined and being set to 0.0 in labels with no true samples. Use `zero_division` parameter to control this behavior.\n",
            "  _warn_prf(average, modifier, msg_start, len(result))\n",
            "/usr/local/lib/python3.7/dist-packages/sklearn/metrics/_classification.py:1318: UndefinedMetricWarning: Recall is ill-defined and being set to 0.0 in labels with no true samples. Use `zero_division` parameter to control this behavior.\n",
            "  _warn_prf(average, modifier, msg_start, len(result))\n",
            "/usr/local/lib/python3.7/dist-packages/sklearn/metrics/_classification.py:1318: UndefinedMetricWarning: Recall is ill-defined and being set to 0.0 in labels with no true samples. Use `zero_division` parameter to control this behavior.\n",
            "  _warn_prf(average, modifier, msg_start, len(result))\n",
            "/usr/local/lib/python3.7/dist-packages/sklearn/metrics/_classification.py:1318: UndefinedMetricWarning: Recall is ill-defined and being set to 0.0 in labels with no true samples. Use `zero_division` parameter to control this behavior.\n",
            "  _warn_prf(average, modifier, msg_start, len(result))\n",
            "/usr/local/lib/python3.7/dist-packages/sklearn/metrics/_classification.py:1318: UndefinedMetricWarning: Precision is ill-defined and being set to 0.0 in labels with no predicted samples. Use `zero_division` parameter to control this behavior.\n",
            "  _warn_prf(average, modifier, msg_start, len(result))\n",
            "/usr/local/lib/python3.7/dist-packages/sklearn/metrics/_classification.py:1318: UndefinedMetricWarning: Recall is ill-defined and being set to 0.0 in labels with no true samples. Use `zero_division` parameter to control this behavior.\n",
            "  _warn_prf(average, modifier, msg_start, len(result))\n",
            "/usr/local/lib/python3.7/dist-packages/sklearn/metrics/_classification.py:1318: UndefinedMetricWarning: Precision is ill-defined and being set to 0.0 in labels with no predicted samples. Use `zero_division` parameter to control this behavior.\n",
            "  _warn_prf(average, modifier, msg_start, len(result))\n",
            "/usr/local/lib/python3.7/dist-packages/sklearn/metrics/_classification.py:1318: UndefinedMetricWarning: Recall is ill-defined and being set to 0.0 in labels with no true samples. Use `zero_division` parameter to control this behavior.\n",
            "  _warn_prf(average, modifier, msg_start, len(result))\n",
            "/usr/local/lib/python3.7/dist-packages/sklearn/metrics/_classification.py:1318: UndefinedMetricWarning: Recall is ill-defined and being set to 0.0 in labels with no true samples. Use `zero_division` parameter to control this behavior.\n",
            "  _warn_prf(average, modifier, msg_start, len(result))\n",
            "/usr/local/lib/python3.7/dist-packages/sklearn/metrics/_classification.py:1318: UndefinedMetricWarning: Recall is ill-defined and being set to 0.0 in labels with no true samples. Use `zero_division` parameter to control this behavior.\n",
            "  _warn_prf(average, modifier, msg_start, len(result))\n",
            "/usr/local/lib/python3.7/dist-packages/sklearn/metrics/_classification.py:1318: UndefinedMetricWarning: Recall is ill-defined and being set to 0.0 in labels with no true samples. Use `zero_division` parameter to control this behavior.\n",
            "  _warn_prf(average, modifier, msg_start, len(result))\n",
            "/usr/local/lib/python3.7/dist-packages/sklearn/metrics/_classification.py:1318: UndefinedMetricWarning: Recall is ill-defined and being set to 0.0 in labels with no true samples. Use `zero_division` parameter to control this behavior.\n",
            "  _warn_prf(average, modifier, msg_start, len(result))\n",
            "/usr/local/lib/python3.7/dist-packages/sklearn/metrics/_classification.py:1318: UndefinedMetricWarning: Recall is ill-defined and being set to 0.0 in labels with no true samples. Use `zero_division` parameter to control this behavior.\n",
            "  _warn_prf(average, modifier, msg_start, len(result))\n",
            "/usr/local/lib/python3.7/dist-packages/sklearn/metrics/_classification.py:1318: UndefinedMetricWarning: Recall is ill-defined and being set to 0.0 in labels with no true samples. Use `zero_division` parameter to control this behavior.\n",
            "  _warn_prf(average, modifier, msg_start, len(result))\n",
            "/usr/local/lib/python3.7/dist-packages/sklearn/metrics/_classification.py:1318: UndefinedMetricWarning: Recall is ill-defined and being set to 0.0 in labels with no true samples. Use `zero_division` parameter to control this behavior.\n",
            "  _warn_prf(average, modifier, msg_start, len(result))\n",
            "/usr/local/lib/python3.7/dist-packages/sklearn/metrics/_classification.py:1318: UndefinedMetricWarning: Precision is ill-defined and being set to 0.0 in labels with no predicted samples. Use `zero_division` parameter to control this behavior.\n",
            "  _warn_prf(average, modifier, msg_start, len(result))\n",
            "/usr/local/lib/python3.7/dist-packages/sklearn/metrics/_classification.py:1318: UndefinedMetricWarning: Recall is ill-defined and being set to 0.0 in labels with no true samples. Use `zero_division` parameter to control this behavior.\n",
            "  _warn_prf(average, modifier, msg_start, len(result))\n",
            "/usr/local/lib/python3.7/dist-packages/sklearn/metrics/_classification.py:1318: UndefinedMetricWarning: Recall is ill-defined and being set to 0.0 in labels with no true samples. Use `zero_division` parameter to control this behavior.\n",
            "  _warn_prf(average, modifier, msg_start, len(result))\n",
            "/usr/local/lib/python3.7/dist-packages/sklearn/metrics/_classification.py:1318: UndefinedMetricWarning: Recall is ill-defined and being set to 0.0 in labels with no true samples. Use `zero_division` parameter to control this behavior.\n",
            "  _warn_prf(average, modifier, msg_start, len(result))\n",
            "/usr/local/lib/python3.7/dist-packages/sklearn/metrics/_classification.py:1318: UndefinedMetricWarning: Recall is ill-defined and being set to 0.0 in labels with no true samples. Use `zero_division` parameter to control this behavior.\n",
            "  _warn_prf(average, modifier, msg_start, len(result))\n",
            "/usr/local/lib/python3.7/dist-packages/sklearn/metrics/_classification.py:1318: UndefinedMetricWarning: Recall is ill-defined and being set to 0.0 in labels with no true samples. Use `zero_division` parameter to control this behavior.\n",
            "  _warn_prf(average, modifier, msg_start, len(result))\n",
            "/usr/local/lib/python3.7/dist-packages/sklearn/metrics/_classification.py:1318: UndefinedMetricWarning: Recall is ill-defined and being set to 0.0 in labels with no true samples. Use `zero_division` parameter to control this behavior.\n",
            "  _warn_prf(average, modifier, msg_start, len(result))\n",
            "/usr/local/lib/python3.7/dist-packages/sklearn/metrics/_classification.py:1318: UndefinedMetricWarning: Recall is ill-defined and being set to 0.0 in labels with no true samples. Use `zero_division` parameter to control this behavior.\n",
            "  _warn_prf(average, modifier, msg_start, len(result))\n",
            "/usr/local/lib/python3.7/dist-packages/sklearn/metrics/_classification.py:1318: UndefinedMetricWarning: Recall is ill-defined and being set to 0.0 in labels with no true samples. Use `zero_division` parameter to control this behavior.\n",
            "  _warn_prf(average, modifier, msg_start, len(result))\n",
            "/usr/local/lib/python3.7/dist-packages/sklearn/metrics/_classification.py:1318: UndefinedMetricWarning: Recall is ill-defined and being set to 0.0 in labels with no true samples. Use `zero_division` parameter to control this behavior.\n",
            "  _warn_prf(average, modifier, msg_start, len(result))\n",
            "/usr/local/lib/python3.7/dist-packages/sklearn/metrics/_classification.py:1318: UndefinedMetricWarning: Precision is ill-defined and being set to 0.0 in labels with no predicted samples. Use `zero_division` parameter to control this behavior.\n",
            "  _warn_prf(average, modifier, msg_start, len(result))\n",
            "/usr/local/lib/python3.7/dist-packages/sklearn/metrics/_classification.py:1318: UndefinedMetricWarning: Recall is ill-defined and being set to 0.0 in labels with no true samples. Use `zero_division` parameter to control this behavior.\n",
            "  _warn_prf(average, modifier, msg_start, len(result))\n",
            "/usr/local/lib/python3.7/dist-packages/sklearn/metrics/_classification.py:1318: UndefinedMetricWarning: Recall is ill-defined and being set to 0.0 in labels with no true samples. Use `zero_division` parameter to control this behavior.\n",
            "  _warn_prf(average, modifier, msg_start, len(result))\n",
            "/usr/local/lib/python3.7/dist-packages/sklearn/metrics/_classification.py:1318: UndefinedMetricWarning: Recall is ill-defined and being set to 0.0 in labels with no true samples. Use `zero_division` parameter to control this behavior.\n",
            "  _warn_prf(average, modifier, msg_start, len(result))\n",
            "/usr/local/lib/python3.7/dist-packages/sklearn/metrics/_classification.py:1318: UndefinedMetricWarning: Recall is ill-defined and being set to 0.0 in labels with no true samples. Use `zero_division` parameter to control this behavior.\n",
            "  _warn_prf(average, modifier, msg_start, len(result))\n",
            "/usr/local/lib/python3.7/dist-packages/sklearn/metrics/_classification.py:1318: UndefinedMetricWarning: Recall is ill-defined and being set to 0.0 in labels with no true samples. Use `zero_division` parameter to control this behavior.\n",
            "  _warn_prf(average, modifier, msg_start, len(result))\n",
            "/usr/local/lib/python3.7/dist-packages/sklearn/metrics/_classification.py:1318: UndefinedMetricWarning: Recall is ill-defined and being set to 0.0 in labels with no true samples. Use `zero_division` parameter to control this behavior.\n",
            "  _warn_prf(average, modifier, msg_start, len(result))\n",
            "/usr/local/lib/python3.7/dist-packages/sklearn/metrics/_classification.py:1318: UndefinedMetricWarning: Precision is ill-defined and being set to 0.0 in labels with no predicted samples. Use `zero_division` parameter to control this behavior.\n",
            "  _warn_prf(average, modifier, msg_start, len(result))\n",
            "/usr/local/lib/python3.7/dist-packages/sklearn/metrics/_classification.py:1318: UndefinedMetricWarning: Recall is ill-defined and being set to 0.0 in labels with no true samples. Use `zero_division` parameter to control this behavior.\n",
            "  _warn_prf(average, modifier, msg_start, len(result))\n",
            "/usr/local/lib/python3.7/dist-packages/sklearn/metrics/_classification.py:1318: UndefinedMetricWarning: Precision is ill-defined and being set to 0.0 in labels with no predicted samples. Use `zero_division` parameter to control this behavior.\n",
            "  _warn_prf(average, modifier, msg_start, len(result))\n",
            "/usr/local/lib/python3.7/dist-packages/sklearn/metrics/_classification.py:1318: UndefinedMetricWarning: Recall is ill-defined and being set to 0.0 in labels with no true samples. Use `zero_division` parameter to control this behavior.\n",
            "  _warn_prf(average, modifier, msg_start, len(result))\n",
            "/usr/local/lib/python3.7/dist-packages/sklearn/metrics/_classification.py:1318: UndefinedMetricWarning: Recall is ill-defined and being set to 0.0 in labels with no true samples. Use `zero_division` parameter to control this behavior.\n",
            "  _warn_prf(average, modifier, msg_start, len(result))\n",
            "/usr/local/lib/python3.7/dist-packages/sklearn/metrics/_classification.py:1318: UndefinedMetricWarning: Precision is ill-defined and being set to 0.0 in labels with no predicted samples. Use `zero_division` parameter to control this behavior.\n",
            "  _warn_prf(average, modifier, msg_start, len(result))\n",
            "/usr/local/lib/python3.7/dist-packages/sklearn/metrics/_classification.py:1318: UndefinedMetricWarning: Recall is ill-defined and being set to 0.0 in labels with no true samples. Use `zero_division` parameter to control this behavior.\n",
            "  _warn_prf(average, modifier, msg_start, len(result))\n",
            "/usr/local/lib/python3.7/dist-packages/sklearn/metrics/_classification.py:1318: UndefinedMetricWarning: Recall is ill-defined and being set to 0.0 in labels with no true samples. Use `zero_division` parameter to control this behavior.\n",
            "  _warn_prf(average, modifier, msg_start, len(result))\n",
            "/usr/local/lib/python3.7/dist-packages/sklearn/metrics/_classification.py:1318: UndefinedMetricWarning: Recall is ill-defined and being set to 0.0 in labels with no true samples. Use `zero_division` parameter to control this behavior.\n",
            "  _warn_prf(average, modifier, msg_start, len(result))\n",
            "/usr/local/lib/python3.7/dist-packages/sklearn/metrics/_classification.py:1318: UndefinedMetricWarning: Recall is ill-defined and being set to 0.0 in labels with no true samples. Use `zero_division` parameter to control this behavior.\n",
            "  _warn_prf(average, modifier, msg_start, len(result))\n",
            "/usr/local/lib/python3.7/dist-packages/sklearn/metrics/_classification.py:1318: UndefinedMetricWarning: Recall is ill-defined and being set to 0.0 in labels with no true samples. Use `zero_division` parameter to control this behavior.\n",
            "  _warn_prf(average, modifier, msg_start, len(result))\n",
            "/usr/local/lib/python3.7/dist-packages/sklearn/metrics/_classification.py:1318: UndefinedMetricWarning: Precision is ill-defined and being set to 0.0 in labels with no predicted samples. Use `zero_division` parameter to control this behavior.\n",
            "  _warn_prf(average, modifier, msg_start, len(result))\n",
            "/usr/local/lib/python3.7/dist-packages/sklearn/metrics/_classification.py:1318: UndefinedMetricWarning: Recall is ill-defined and being set to 0.0 in labels with no true samples. Use `zero_division` parameter to control this behavior.\n",
            "  _warn_prf(average, modifier, msg_start, len(result))\n",
            "/usr/local/lib/python3.7/dist-packages/sklearn/metrics/_classification.py:1318: UndefinedMetricWarning: Precision is ill-defined and being set to 0.0 in labels with no predicted samples. Use `zero_division` parameter to control this behavior.\n",
            "  _warn_prf(average, modifier, msg_start, len(result))\n",
            "/usr/local/lib/python3.7/dist-packages/sklearn/metrics/_classification.py:1318: UndefinedMetricWarning: Recall is ill-defined and being set to 0.0 in labels with no true samples. Use `zero_division` parameter to control this behavior.\n",
            "  _warn_prf(average, modifier, msg_start, len(result))\n",
            "/usr/local/lib/python3.7/dist-packages/sklearn/metrics/_classification.py:1318: UndefinedMetricWarning: Precision is ill-defined and being set to 0.0 in labels with no predicted samples. Use `zero_division` parameter to control this behavior.\n",
            "  _warn_prf(average, modifier, msg_start, len(result))\n",
            "/usr/local/lib/python3.7/dist-packages/sklearn/metrics/_classification.py:1318: UndefinedMetricWarning: Recall is ill-defined and being set to 0.0 in labels with no true samples. Use `zero_division` parameter to control this behavior.\n",
            "  _warn_prf(average, modifier, msg_start, len(result))\n",
            "/usr/local/lib/python3.7/dist-packages/sklearn/metrics/_classification.py:1318: UndefinedMetricWarning: Precision is ill-defined and being set to 0.0 in labels with no predicted samples. Use `zero_division` parameter to control this behavior.\n",
            "  _warn_prf(average, modifier, msg_start, len(result))\n",
            "/usr/local/lib/python3.7/dist-packages/sklearn/metrics/_classification.py:1318: UndefinedMetricWarning: Recall is ill-defined and being set to 0.0 in labels with no true samples. Use `zero_division` parameter to control this behavior.\n",
            "  _warn_prf(average, modifier, msg_start, len(result))\n",
            "/usr/local/lib/python3.7/dist-packages/sklearn/metrics/_classification.py:1318: UndefinedMetricWarning: Precision is ill-defined and being set to 0.0 in labels with no predicted samples. Use `zero_division` parameter to control this behavior.\n",
            "  _warn_prf(average, modifier, msg_start, len(result))\n",
            "/usr/local/lib/python3.7/dist-packages/sklearn/metrics/_classification.py:1318: UndefinedMetricWarning: Recall is ill-defined and being set to 0.0 in labels with no true samples. Use `zero_division` parameter to control this behavior.\n",
            "  _warn_prf(average, modifier, msg_start, len(result))\n",
            "/usr/local/lib/python3.7/dist-packages/sklearn/metrics/_classification.py:1318: UndefinedMetricWarning: Recall is ill-defined and being set to 0.0 in labels with no true samples. Use `zero_division` parameter to control this behavior.\n",
            "  _warn_prf(average, modifier, msg_start, len(result))\n",
            "/usr/local/lib/python3.7/dist-packages/sklearn/metrics/_classification.py:1318: UndefinedMetricWarning: Recall is ill-defined and being set to 0.0 in labels with no true samples. Use `zero_division` parameter to control this behavior.\n",
            "  _warn_prf(average, modifier, msg_start, len(result))\n",
            "/usr/local/lib/python3.7/dist-packages/sklearn/metrics/_classification.py:1318: UndefinedMetricWarning: Precision is ill-defined and being set to 0.0 in labels with no predicted samples. Use `zero_division` parameter to control this behavior.\n",
            "  _warn_prf(average, modifier, msg_start, len(result))\n",
            "/usr/local/lib/python3.7/dist-packages/sklearn/metrics/_classification.py:1318: UndefinedMetricWarning: Recall is ill-defined and being set to 0.0 in labels with no true samples. Use `zero_division` parameter to control this behavior.\n",
            "  _warn_prf(average, modifier, msg_start, len(result))\n",
            "/usr/local/lib/python3.7/dist-packages/sklearn/metrics/_classification.py:1318: UndefinedMetricWarning: Recall is ill-defined and being set to 0.0 in labels with no true samples. Use `zero_division` parameter to control this behavior.\n",
            "  _warn_prf(average, modifier, msg_start, len(result))\n",
            "/usr/local/lib/python3.7/dist-packages/sklearn/metrics/_classification.py:1318: UndefinedMetricWarning: Recall is ill-defined and being set to 0.0 in labels with no true samples. Use `zero_division` parameter to control this behavior.\n",
            "  _warn_prf(average, modifier, msg_start, len(result))\n",
            "/usr/local/lib/python3.7/dist-packages/sklearn/metrics/_classification.py:1318: UndefinedMetricWarning: Recall is ill-defined and being set to 0.0 in labels with no true samples. Use `zero_division` parameter to control this behavior.\n",
            "  _warn_prf(average, modifier, msg_start, len(result))\n",
            "/usr/local/lib/python3.7/dist-packages/sklearn/metrics/_classification.py:1318: UndefinedMetricWarning: Precision is ill-defined and being set to 0.0 in labels with no predicted samples. Use `zero_division` parameter to control this behavior.\n",
            "  _warn_prf(average, modifier, msg_start, len(result))\n",
            "/usr/local/lib/python3.7/dist-packages/sklearn/metrics/_classification.py:1318: UndefinedMetricWarning: Recall is ill-defined and being set to 0.0 in labels with no true samples. Use `zero_division` parameter to control this behavior.\n",
            "  _warn_prf(average, modifier, msg_start, len(result))\n",
            "/usr/local/lib/python3.7/dist-packages/sklearn/metrics/_classification.py:1318: UndefinedMetricWarning: Recall is ill-defined and being set to 0.0 in labels with no true samples. Use `zero_division` parameter to control this behavior.\n",
            "  _warn_prf(average, modifier, msg_start, len(result))\n",
            "/usr/local/lib/python3.7/dist-packages/sklearn/metrics/_classification.py:1318: UndefinedMetricWarning: Recall is ill-defined and being set to 0.0 in labels with no true samples. Use `zero_division` parameter to control this behavior.\n",
            "  _warn_prf(average, modifier, msg_start, len(result))\n",
            "/usr/local/lib/python3.7/dist-packages/sklearn/metrics/_classification.py:1318: UndefinedMetricWarning: Recall is ill-defined and being set to 0.0 in labels with no true samples. Use `zero_division` parameter to control this behavior.\n",
            "  _warn_prf(average, modifier, msg_start, len(result))\n",
            "/usr/local/lib/python3.7/dist-packages/sklearn/metrics/_classification.py:1318: UndefinedMetricWarning: Precision is ill-defined and being set to 0.0 in labels with no predicted samples. Use `zero_division` parameter to control this behavior.\n",
            "  _warn_prf(average, modifier, msg_start, len(result))\n",
            "/usr/local/lib/python3.7/dist-packages/sklearn/metrics/_classification.py:1318: UndefinedMetricWarning: Recall is ill-defined and being set to 0.0 in labels with no true samples. Use `zero_division` parameter to control this behavior.\n",
            "  _warn_prf(average, modifier, msg_start, len(result))\n",
            "/usr/local/lib/python3.7/dist-packages/sklearn/metrics/_classification.py:1318: UndefinedMetricWarning: Recall is ill-defined and being set to 0.0 in labels with no true samples. Use `zero_division` parameter to control this behavior.\n",
            "  _warn_prf(average, modifier, msg_start, len(result))\n",
            "/usr/local/lib/python3.7/dist-packages/sklearn/metrics/_classification.py:1318: UndefinedMetricWarning: Recall is ill-defined and being set to 0.0 in labels with no true samples. Use `zero_division` parameter to control this behavior.\n",
            "  _warn_prf(average, modifier, msg_start, len(result))\n",
            "/usr/local/lib/python3.7/dist-packages/sklearn/metrics/_classification.py:1318: UndefinedMetricWarning: Precision is ill-defined and being set to 0.0 in labels with no predicted samples. Use `zero_division` parameter to control this behavior.\n",
            "  _warn_prf(average, modifier, msg_start, len(result))\n",
            "/usr/local/lib/python3.7/dist-packages/sklearn/metrics/_classification.py:1318: UndefinedMetricWarning: Recall is ill-defined and being set to 0.0 in labels with no true samples. Use `zero_division` parameter to control this behavior.\n",
            "  _warn_prf(average, modifier, msg_start, len(result))\n",
            "/usr/local/lib/python3.7/dist-packages/sklearn/metrics/_classification.py:1318: UndefinedMetricWarning: Recall is ill-defined and being set to 0.0 in labels with no true samples. Use `zero_division` parameter to control this behavior.\n",
            "  _warn_prf(average, modifier, msg_start, len(result))\n",
            "/usr/local/lib/python3.7/dist-packages/sklearn/metrics/_classification.py:1318: UndefinedMetricWarning: Recall is ill-defined and being set to 0.0 in labels with no true samples. Use `zero_division` parameter to control this behavior.\n",
            "  _warn_prf(average, modifier, msg_start, len(result))\n",
            "/usr/local/lib/python3.7/dist-packages/sklearn/metrics/_classification.py:1318: UndefinedMetricWarning: Recall is ill-defined and being set to 0.0 in labels with no true samples. Use `zero_division` parameter to control this behavior.\n",
            "  _warn_prf(average, modifier, msg_start, len(result))\n",
            "/usr/local/lib/python3.7/dist-packages/sklearn/metrics/_classification.py:1318: UndefinedMetricWarning: Recall is ill-defined and being set to 0.0 in labels with no true samples. Use `zero_division` parameter to control this behavior.\n",
            "  _warn_prf(average, modifier, msg_start, len(result))\n",
            "/usr/local/lib/python3.7/dist-packages/sklearn/metrics/_classification.py:1318: UndefinedMetricWarning: Recall is ill-defined and being set to 0.0 in labels with no true samples. Use `zero_division` parameter to control this behavior.\n",
            "  _warn_prf(average, modifier, msg_start, len(result))\n",
            "/usr/local/lib/python3.7/dist-packages/sklearn/metrics/_classification.py:1318: UndefinedMetricWarning: Recall is ill-defined and being set to 0.0 in labels with no true samples. Use `zero_division` parameter to control this behavior.\n",
            "  _warn_prf(average, modifier, msg_start, len(result))\n",
            "/usr/local/lib/python3.7/dist-packages/sklearn/metrics/_classification.py:1318: UndefinedMetricWarning: Recall is ill-defined and being set to 0.0 in labels with no true samples. Use `zero_division` parameter to control this behavior.\n",
            "  _warn_prf(average, modifier, msg_start, len(result))\n",
            "/usr/local/lib/python3.7/dist-packages/sklearn/metrics/_classification.py:1318: UndefinedMetricWarning: Recall is ill-defined and being set to 0.0 in labels with no true samples. Use `zero_division` parameter to control this behavior.\n",
            "  _warn_prf(average, modifier, msg_start, len(result))\n",
            "/usr/local/lib/python3.7/dist-packages/sklearn/metrics/_classification.py:1318: UndefinedMetricWarning: Precision is ill-defined and being set to 0.0 in labels with no predicted samples. Use `zero_division` parameter to control this behavior.\n",
            "  _warn_prf(average, modifier, msg_start, len(result))\n",
            "/usr/local/lib/python3.7/dist-packages/sklearn/metrics/_classification.py:1318: UndefinedMetricWarning: Recall is ill-defined and being set to 0.0 in labels with no true samples. Use `zero_division` parameter to control this behavior.\n",
            "  _warn_prf(average, modifier, msg_start, len(result))\n",
            "/usr/local/lib/python3.7/dist-packages/sklearn/metrics/_classification.py:1318: UndefinedMetricWarning: Precision is ill-defined and being set to 0.0 in labels with no predicted samples. Use `zero_division` parameter to control this behavior.\n",
            "  _warn_prf(average, modifier, msg_start, len(result))\n",
            "/usr/local/lib/python3.7/dist-packages/sklearn/metrics/_classification.py:1318: UndefinedMetricWarning: Recall is ill-defined and being set to 0.0 in labels with no true samples. Use `zero_division` parameter to control this behavior.\n",
            "  _warn_prf(average, modifier, msg_start, len(result))\n",
            "/usr/local/lib/python3.7/dist-packages/sklearn/metrics/_classification.py:1318: UndefinedMetricWarning: Recall is ill-defined and being set to 0.0 in labels with no true samples. Use `zero_division` parameter to control this behavior.\n",
            "  _warn_prf(average, modifier, msg_start, len(result))\n",
            "/usr/local/lib/python3.7/dist-packages/sklearn/metrics/_classification.py:1318: UndefinedMetricWarning: Recall is ill-defined and being set to 0.0 in labels with no true samples. Use `zero_division` parameter to control this behavior.\n",
            "  _warn_prf(average, modifier, msg_start, len(result))\n",
            "/usr/local/lib/python3.7/dist-packages/sklearn/metrics/_classification.py:1318: UndefinedMetricWarning: Recall is ill-defined and being set to 0.0 in labels with no true samples. Use `zero_division` parameter to control this behavior.\n",
            "  _warn_prf(average, modifier, msg_start, len(result))\n",
            "/usr/local/lib/python3.7/dist-packages/sklearn/metrics/_classification.py:1318: UndefinedMetricWarning: Precision is ill-defined and being set to 0.0 in labels with no predicted samples. Use `zero_division` parameter to control this behavior.\n",
            "  _warn_prf(average, modifier, msg_start, len(result))\n",
            "/usr/local/lib/python3.7/dist-packages/sklearn/metrics/_classification.py:1318: UndefinedMetricWarning: Recall is ill-defined and being set to 0.0 in labels with no true samples. Use `zero_division` parameter to control this behavior.\n",
            "  _warn_prf(average, modifier, msg_start, len(result))\n",
            "/usr/local/lib/python3.7/dist-packages/sklearn/metrics/_classification.py:1318: UndefinedMetricWarning: Recall is ill-defined and being set to 0.0 in labels with no true samples. Use `zero_division` parameter to control this behavior.\n",
            "  _warn_prf(average, modifier, msg_start, len(result))\n",
            "/usr/local/lib/python3.7/dist-packages/sklearn/metrics/_classification.py:1318: UndefinedMetricWarning: Recall is ill-defined and being set to 0.0 in labels with no true samples. Use `zero_division` parameter to control this behavior.\n",
            "  _warn_prf(average, modifier, msg_start, len(result))\n",
            "/usr/local/lib/python3.7/dist-packages/sklearn/metrics/_classification.py:1318: UndefinedMetricWarning: Recall is ill-defined and being set to 0.0 in labels with no true samples. Use `zero_division` parameter to control this behavior.\n",
            "  _warn_prf(average, modifier, msg_start, len(result))\n",
            "/usr/local/lib/python3.7/dist-packages/sklearn/metrics/_classification.py:1318: UndefinedMetricWarning: Recall is ill-defined and being set to 0.0 in labels with no true samples. Use `zero_division` parameter to control this behavior.\n",
            "  _warn_prf(average, modifier, msg_start, len(result))\n",
            "/usr/local/lib/python3.7/dist-packages/sklearn/metrics/_classification.py:1318: UndefinedMetricWarning: Precision is ill-defined and being set to 0.0 in labels with no predicted samples. Use `zero_division` parameter to control this behavior.\n",
            "  _warn_prf(average, modifier, msg_start, len(result))\n",
            "/usr/local/lib/python3.7/dist-packages/sklearn/metrics/_classification.py:1318: UndefinedMetricWarning: Recall is ill-defined and being set to 0.0 in labels with no true samples. Use `zero_division` parameter to control this behavior.\n",
            "  _warn_prf(average, modifier, msg_start, len(result))\n",
            "/usr/local/lib/python3.7/dist-packages/sklearn/metrics/_classification.py:1318: UndefinedMetricWarning: Recall is ill-defined and being set to 0.0 in labels with no true samples. Use `zero_division` parameter to control this behavior.\n",
            "  _warn_prf(average, modifier, msg_start, len(result))\n",
            "/usr/local/lib/python3.7/dist-packages/sklearn/metrics/_classification.py:1318: UndefinedMetricWarning: Precision is ill-defined and being set to 0.0 in labels with no predicted samples. Use `zero_division` parameter to control this behavior.\n",
            "  _warn_prf(average, modifier, msg_start, len(result))\n",
            "/usr/local/lib/python3.7/dist-packages/sklearn/metrics/_classification.py:1318: UndefinedMetricWarning: Recall is ill-defined and being set to 0.0 in labels with no true samples. Use `zero_division` parameter to control this behavior.\n",
            "  _warn_prf(average, modifier, msg_start, len(result))\n",
            "/usr/local/lib/python3.7/dist-packages/sklearn/metrics/_classification.py:1318: UndefinedMetricWarning: Recall is ill-defined and being set to 0.0 in labels with no true samples. Use `zero_division` parameter to control this behavior.\n",
            "  _warn_prf(average, modifier, msg_start, len(result))\n",
            "/usr/local/lib/python3.7/dist-packages/sklearn/metrics/_classification.py:1318: UndefinedMetricWarning: Recall is ill-defined and being set to 0.0 in labels with no true samples. Use `zero_division` parameter to control this behavior.\n",
            "  _warn_prf(average, modifier, msg_start, len(result))\n",
            "/usr/local/lib/python3.7/dist-packages/sklearn/metrics/_classification.py:1318: UndefinedMetricWarning: Recall is ill-defined and being set to 0.0 in labels with no true samples. Use `zero_division` parameter to control this behavior.\n",
            "  _warn_prf(average, modifier, msg_start, len(result))\n",
            "/usr/local/lib/python3.7/dist-packages/sklearn/metrics/_classification.py:1318: UndefinedMetricWarning: Recall is ill-defined and being set to 0.0 in labels with no true samples. Use `zero_division` parameter to control this behavior.\n",
            "  _warn_prf(average, modifier, msg_start, len(result))\n",
            "/usr/local/lib/python3.7/dist-packages/sklearn/metrics/_classification.py:1318: UndefinedMetricWarning: Recall is ill-defined and being set to 0.0 in labels with no true samples. Use `zero_division` parameter to control this behavior.\n",
            "  _warn_prf(average, modifier, msg_start, len(result))\n",
            "/usr/local/lib/python3.7/dist-packages/sklearn/metrics/_classification.py:1318: UndefinedMetricWarning: Recall is ill-defined and being set to 0.0 in labels with no true samples. Use `zero_division` parameter to control this behavior.\n",
            "  _warn_prf(average, modifier, msg_start, len(result))\n",
            "/usr/local/lib/python3.7/dist-packages/sklearn/metrics/_classification.py:1318: UndefinedMetricWarning: Recall is ill-defined and being set to 0.0 in labels with no true samples. Use `zero_division` parameter to control this behavior.\n",
            "  _warn_prf(average, modifier, msg_start, len(result))\n",
            "/usr/local/lib/python3.7/dist-packages/sklearn/metrics/_classification.py:1318: UndefinedMetricWarning: Precision is ill-defined and being set to 0.0 in labels with no predicted samples. Use `zero_division` parameter to control this behavior.\n",
            "  _warn_prf(average, modifier, msg_start, len(result))\n",
            "/usr/local/lib/python3.7/dist-packages/sklearn/metrics/_classification.py:1318: UndefinedMetricWarning: Recall is ill-defined and being set to 0.0 in labels with no true samples. Use `zero_division` parameter to control this behavior.\n",
            "  _warn_prf(average, modifier, msg_start, len(result))\n",
            "/usr/local/lib/python3.7/dist-packages/sklearn/metrics/_classification.py:1318: UndefinedMetricWarning: Precision is ill-defined and being set to 0.0 in labels with no predicted samples. Use `zero_division` parameter to control this behavior.\n",
            "  _warn_prf(average, modifier, msg_start, len(result))\n",
            "/usr/local/lib/python3.7/dist-packages/sklearn/metrics/_classification.py:1318: UndefinedMetricWarning: Recall is ill-defined and being set to 0.0 in labels with no true samples. Use `zero_division` parameter to control this behavior.\n",
            "  _warn_prf(average, modifier, msg_start, len(result))\n",
            "/usr/local/lib/python3.7/dist-packages/sklearn/metrics/_classification.py:1318: UndefinedMetricWarning: Precision is ill-defined and being set to 0.0 in labels with no predicted samples. Use `zero_division` parameter to control this behavior.\n",
            "  _warn_prf(average, modifier, msg_start, len(result))\n",
            "/usr/local/lib/python3.7/dist-packages/sklearn/metrics/_classification.py:1318: UndefinedMetricWarning: Recall is ill-defined and being set to 0.0 in labels with no true samples. Use `zero_division` parameter to control this behavior.\n",
            "  _warn_prf(average, modifier, msg_start, len(result))\n",
            "/usr/local/lib/python3.7/dist-packages/sklearn/metrics/_classification.py:1318: UndefinedMetricWarning: Recall is ill-defined and being set to 0.0 in labels with no true samples. Use `zero_division` parameter to control this behavior.\n",
            "  _warn_prf(average, modifier, msg_start, len(result))\n",
            "/usr/local/lib/python3.7/dist-packages/sklearn/metrics/_classification.py:1318: UndefinedMetricWarning: Precision is ill-defined and being set to 0.0 in labels with no predicted samples. Use `zero_division` parameter to control this behavior.\n",
            "  _warn_prf(average, modifier, msg_start, len(result))\n",
            "/usr/local/lib/python3.7/dist-packages/sklearn/metrics/_classification.py:1318: UndefinedMetricWarning: Recall is ill-defined and being set to 0.0 in labels with no true samples. Use `zero_division` parameter to control this behavior.\n",
            "  _warn_prf(average, modifier, msg_start, len(result))\n",
            "/usr/local/lib/python3.7/dist-packages/sklearn/metrics/_classification.py:1318: UndefinedMetricWarning: Recall is ill-defined and being set to 0.0 in labels with no true samples. Use `zero_division` parameter to control this behavior.\n",
            "  _warn_prf(average, modifier, msg_start, len(result))\n",
            "/usr/local/lib/python3.7/dist-packages/sklearn/metrics/_classification.py:1318: UndefinedMetricWarning: Recall is ill-defined and being set to 0.0 in labels with no true samples. Use `zero_division` parameter to control this behavior.\n",
            "  _warn_prf(average, modifier, msg_start, len(result))\n",
            "/usr/local/lib/python3.7/dist-packages/sklearn/metrics/_classification.py:1318: UndefinedMetricWarning: Precision is ill-defined and being set to 0.0 in labels with no predicted samples. Use `zero_division` parameter to control this behavior.\n",
            "  _warn_prf(average, modifier, msg_start, len(result))\n",
            "/usr/local/lib/python3.7/dist-packages/sklearn/metrics/_classification.py:1318: UndefinedMetricWarning: Recall is ill-defined and being set to 0.0 in labels with no true samples. Use `zero_division` parameter to control this behavior.\n",
            "  _warn_prf(average, modifier, msg_start, len(result))\n",
            "/usr/local/lib/python3.7/dist-packages/sklearn/metrics/_classification.py:1318: UndefinedMetricWarning: Recall is ill-defined and being set to 0.0 in labels with no true samples. Use `zero_division` parameter to control this behavior.\n",
            "  _warn_prf(average, modifier, msg_start, len(result))\n",
            "/usr/local/lib/python3.7/dist-packages/sklearn/metrics/_classification.py:1318: UndefinedMetricWarning: Recall is ill-defined and being set to 0.0 in labels with no true samples. Use `zero_division` parameter to control this behavior.\n",
            "  _warn_prf(average, modifier, msg_start, len(result))\n",
            "/usr/local/lib/python3.7/dist-packages/sklearn/metrics/_classification.py:1318: UndefinedMetricWarning: Recall is ill-defined and being set to 0.0 in labels with no true samples. Use `zero_division` parameter to control this behavior.\n",
            "  _warn_prf(average, modifier, msg_start, len(result))\n"
          ]
        }
      ],
      "source": [
        "query_indexes = list(range(0, test_x.shape[0]))\n",
        "label_builder = list(np.unique(training_indexed[\"labels\"]))\n",
        "class_builder = {label_unique:[] for label_unique in label_builder}\n",
        "recalls = copy.deepcopy(class_builder)\n",
        "precisions = copy.deepcopy(class_builder)\n",
        "accuracies = copy.deepcopy(class_builder)\n",
        "# loop over the testing indexes\n",
        "for i in query_indexes:\n",
        "    queryFeatures = features_retrieved[i]\n",
        "    results = perform_search(queryFeatures, training_indexed, max_results=10)\n",
        "    labels_ret = [training_indexed[\"labels\"][r[1]] for r in results]\n",
        "    label_true = dataset[i].split(\"/\")[5]\n",
        "    label_trues = [label_true for _ in labels_ret]\n",
        "    recall = metric.recall_score(label_trues, labels_ret, average='weighted')\n",
        "    precision = metric.precision_score(label_trues, labels_ret, average='weighted')\n",
        "    accuracy = metric.accuracy_score(label_trues, labels_ret)\n",
        "    recalls[label_true].append(recall)\n",
        "    precisions[label_true].append(precision)\n",
        "    accuracies[label_true].append(accuracy)"
      ]
    },
    {
      "cell_type": "markdown",
      "metadata": {
        "id": "UA6W88ki8SLP"
      },
      "source": [
        "## Print the recall and precision values"
      ]
    },
    {
      "cell_type": "code",
      "execution_count": null,
      "metadata": {
        "id": "1ViD6suW8WnW",
        "colab": {
          "base_uri": "https://localhost:8080/"
        },
        "outputId": "a980362c-1c19-4a9f-9bca-234a0525814c"
      },
      "outputs": [
        {
          "output_type": "stream",
          "name": "stdout",
          "text": [
            "recall values:\n",
            "glioma 0.7778947368421052\n",
            "meningioma 0.6035211267605634\n",
            "pituitary 0.9220430107526881\n",
            "combined recall 0.7678196247851189\n",
            "\n",
            "precision values:\n",
            "glioma 0.856140350877193\n",
            "meningioma 0.8028169014084507\n",
            "pituitary 0.956989247311828\n",
            "combined precision 0.8719821665324906\n"
          ]
        }
      ],
      "source": [
        "print(\"recall values:\")\n",
        "comb_recall, comb_precision = [], []\n",
        "for key in recalls.keys():\n",
        "    average_val = np.average(recalls[key])\n",
        "    print(key, average_val)\n",
        "    comb_recall.append(average_val)\n",
        "print(\"combined recall\", np.average(comb_recall))\n",
        "\n",
        "print(\"\\nprecision values:\")\n",
        "for key in precisions.keys():\n",
        "    average_val = np.average(precisions[key])\n",
        "    print(key, average_val) \n",
        "    comb_precision.append(average_val)\n",
        "print(\"combined precision\", np.average(comb_precision))"
      ]
    },
    {
      "cell_type": "code",
      "execution_count": null,
      "metadata": {
        "id": "91r0p2rf_zwX"
      },
      "outputs": [],
      "source": [
        "def build_montages(image_list, image_shape, montage_shape):\n",
        "    if len(image_shape) != 2:\n",
        "        raise Exception('image shape must be list or tuple of length 2 (rows, cols)')\n",
        "    if len(montage_shape) != 2:\n",
        "        raise Exception('montage shape must be list or tuple of length 2 (rows, cols)')\n",
        "    image_montages = []\n",
        "    # start with black canvas to draw images onto\n",
        "    montage_image = np.zeros(shape=(image_shape[1] * (montage_shape[1]), image_shape[0] * montage_shape[0], 3),\n",
        "                          dtype=np.uint8)\n",
        "    cursor_pos = [0, 0]\n",
        "    start_new_img = False\n",
        "    for img in image_list:\n",
        "        if type(img).__module__ != np.__name__:\n",
        "            raise Exception('input of type {} is not a valid numpy array'.format(type(img)))\n",
        "        start_new_img = False\n",
        "        img = cv2.resize(img, image_shape)\n",
        "        # draw image to black canvas\n",
        "        montage_image[cursor_pos[1]:cursor_pos[1] + image_shape[1], cursor_pos[0]:cursor_pos[0] + image_shape[0]] = img\n",
        "        cursor_pos[0] += image_shape[0]  # increment cursor x position\n",
        "        if cursor_pos[0] >= montage_shape[0] * image_shape[0]:\n",
        "            cursor_pos[1] += image_shape[1]  # increment cursor y position\n",
        "            cursor_pos[0] = 0\n",
        "            if cursor_pos[1] >= montage_shape[1] * image_shape[1]:\n",
        "                cursor_pos = [0, 0]\n",
        "                image_montages.append(montage_image)\n",
        "                # reset black canvas\n",
        "                montage_image = np.zeros(shape=(image_shape[1] * (montage_shape[1]), image_shape[0] * montage_shape[0], 3),\n",
        "                                      dtype=np.uint8)\n",
        "                start_new_img = True\n",
        "    if start_new_img is False:\n",
        "        image_montages.append(montage_image)  # add unfinished montage\n",
        "    return image_montages"
      ]
    },
    {
      "cell_type": "code",
      "execution_count": null,
      "metadata": {
        "id": "lPP0RF3l_5-X",
        "colab": {
          "base_uri": "https://localhost:8080/",
          "height": 339
        },
        "outputId": "3c2850df-128e-49eb-83f4-b4a333e3d2bb"
      },
      "outputs": [
        {
          "output_type": "display_data",
          "data": {
            "image/png": "[encoded data removed]",
            "text/plain": [
              "<Figure size 432x288 with 1 Axes>"
            ]
          },
          "metadata": {
            "needs_background": "light"
          }
        },
        {
          "output_type": "display_data",
          "data": {
            "image/png": "[encoded data removed]",
            "text/plain": [
              "<Figure size 2160x2160 with 5 Axes>"
            ]
          },
          "metadata": {
            "needs_background": "light"
          }
        }
      ],
      "source": [
        "from PIL import Image\n",
        "\n",
        "queryIdx = 3 # Input Index for which images \n",
        "\n",
        "queryFeatures = features_retrieved[queryIdx]\n",
        "results = perform_search(queryFeatures, training_indexed, max_results=5)\n",
        "\n",
        "imgs = []\n",
        "result_path = []\n",
        "\n",
        "# loop over the results\n",
        "for (d, j) in results:\n",
        "    img = np.array(Image.open(dataset_train[j]))\n",
        "    result_path.append(dataset_train[j])\n",
        "    imgs.append(img)\n",
        "\n",
        "# display the query image\n",
        "plt.title(dataset[queryIdx].split(\"/\")[5])\n",
        "plt.imshow(np.array(Image.open(dataset[queryIdx])))\n",
        "\n",
        "plt.figure(figsize=(30,30))\n",
        "columns = 5\n",
        "for i, image in enumerate(imgs):\n",
        "    plt.subplot(len(images) / columns + 1, columns, i + 1)\n",
        "    result_label = result_path[i].split(\"/\")[5]\n",
        "    plt.title(result_label)\n",
        "    plt.imshow(image)"
      ]
    },
    {
      "cell_type": "code",
      "execution_count": null,
      "metadata": {
        "id": "9MSw3MgkBHyW",
        "colab": {
          "base_uri": "https://localhost:8080/",
          "height": 339
        },
        "outputId": "a90dc817-b4ce-49c7-bdbe-6a52fa1f959e"
      },
      "outputs": [
        {
          "output_type": "display_data",
          "data": {
            "image/png": "[encoded data removed]",
            "text/plain": [
              "<Figure size 432x288 with 1 Axes>"
            ]
          },
          "metadata": {
            "needs_background": "light"
          }
        },
        {
          "output_type": "display_data",
          "data": {
            "image/png": "[encoded data removed]",
            "text/plain": [
              "<Figure size 2160x2160 with 5 Axes>"
            ]
          },
          "metadata": {
            "needs_background": "light"
          }
        }
      ],
      "source": [
        "queryIdx = 480 # Input Index for which images \n",
        "\n",
        "queryFeatures = features_retrieved[queryIdx]\n",
        "results = perform_search(queryFeatures, training_indexed, max_results=5)\n",
        "\n",
        "imgs = []\n",
        "result_path = []\n",
        "\n",
        "# loop over the results\n",
        "for (d, j) in results:\n",
        "    img = np.array(Image.open(dataset_train[j]))\n",
        "    result_path.append(dataset_train[j])\n",
        "    imgs.append(img)\n",
        "\n",
        "# display the query image\n",
        "plt.title(dataset[queryIdx].split(\"/\")[5])\n",
        "plt.imshow(np.array(Image.open(dataset[queryIdx])))\n",
        "\n",
        "plt.figure(figsize=(30,30))\n",
        "columns = 5\n",
        "for i, image in enumerate(imgs):\n",
        "    plt.subplot(len(images) / columns + 1, columns, i + 1)\n",
        "    result_label = result_path[i].split(\"/\")[5]\n",
        "    plt.title(result_label)\n",
        "    plt.imshow(image)"
      ]
    },
    {
      "cell_type": "code",
      "execution_count": null,
      "metadata": {
        "id": "2wOhOAOEBtFM",
        "colab": {
          "base_uri": "https://localhost:8080/",
          "height": 339
        },
        "outputId": "f5044fca-8bba-4d42-c492-a5814f311bec"
      },
      "outputs": [
        {
          "output_type": "display_data",
          "data": {
            "image/png": "[encoded data removed]",
            "text/plain": [
              "<Figure size 432x288 with 1 Axes>"
            ]
          },
          "metadata": {
            "needs_background": "light"
          }
        },
        {
          "output_type": "display_data",
          "data": {
            "image/png": "[encoded data removed]",
            "text/plain": [
              "<Figure size 2160x2160 with 5 Axes>"
            ]
          },
          "metadata": {
            "needs_background": "light"
          }
        }
      ],
      "source": [
        "queryIdx = 330 # Input Index for which images \n",
        "\n",
        "queryFeatures = features_retrieved[queryIdx]\n",
        "results = perform_search(queryFeatures, training_indexed, max_results=5)\n",
        "\n",
        "imgs = []\n",
        "result_path = []\n",
        "\n",
        "# loop over the results\n",
        "for (d, j) in results:\n",
        "    img = np.array(Image.open(dataset_train[j]))\n",
        "    result_path.append(dataset_train[j])\n",
        "    imgs.append(img)\n",
        "\n",
        "# display the query image\n",
        "plt.title(dataset[queryIdx].split(\"/\")[5])\n",
        "plt.imshow(np.array(Image.open(dataset[queryIdx])))\n",
        "\n",
        "plt.figure(figsize=(30,30))\n",
        "columns = 5\n",
        "for i, image in enumerate(imgs):\n",
        "    plt.subplot(len(images) / columns + 1, columns, i + 1)\n",
        "    result_label = result_path[i].split(\"/\")[5]\n",
        "    plt.title(result_label)\n",
        "    plt.imshow(image)"
      ]
    },
    {
      "cell_type": "markdown",
      "metadata": {
        "id": "IzhVpfgcIDyT"
      },
      "source": [
        "##Save Model"
      ]
    },
    {
      "cell_type": "code",
      "execution_count": null,
      "metadata": {
        "id": "lXO45bnXIFIY"
      },
      "outputs": [],
      "source": [
        "vgg19.save('vgg19_model.h5')"
      ]
    }
  ],
  "metadata": {
    "accelerator": "GPU",
    "colab": {
      "collapsed_sections": [],
      "name": "VGG19 Brain Tumor Image Retrieval.ipynb",
      "provenance": [],
      "include_colab_link": true
    },
    "kernelspec": {
      "display_name": "Python 3",
      "name": "python3"
    },
    "language_info": {
      "name": "python"
    }
  },
  "nbformat": 4,
  "nbformat_minor": 0
}